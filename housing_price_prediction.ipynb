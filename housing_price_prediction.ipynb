{
 "cells": [
  {
   "cell_type": "code",
   "execution_count": 1,
   "id": "d7342720",
   "metadata": {
    "_cell_guid": "b1076dfc-b9ad-4769-8c92-a6c4dae69d19",
    "_uuid": "8f2839f25d086af736a60e9eeb907d3b93b6e0e5",
    "execution": {
     "iopub.execute_input": "2023-02-26T20:51:01.589030Z",
     "iopub.status.busy": "2023-02-26T20:51:01.587937Z",
     "iopub.status.idle": "2023-02-26T20:51:01.646185Z",
     "shell.execute_reply": "2023-02-26T20:51:01.644850Z"
    },
    "papermill": {
     "duration": 0.084735,
     "end_time": "2023-02-26T20:51:01.649101",
     "exception": false,
     "start_time": "2023-02-26T20:51:01.564366",
     "status": "completed"
    },
    "tags": []
   },
   "outputs": [
    {
     "data": {
      "text/html": [
       "<div>\n",
       "<style scoped>\n",
       "    .dataframe tbody tr th:only-of-type {\n",
       "        vertical-align: middle;\n",
       "    }\n",
       "\n",
       "    .dataframe tbody tr th {\n",
       "        vertical-align: top;\n",
       "    }\n",
       "\n",
       "    .dataframe thead th {\n",
       "        text-align: right;\n",
       "    }\n",
       "</style>\n",
       "<table border=\"1\" class=\"dataframe\">\n",
       "  <thead>\n",
       "    <tr style=\"text-align: right;\">\n",
       "      <th></th>\n",
       "      <th>price</th>\n",
       "      <th>area</th>\n",
       "      <th>bedrooms</th>\n",
       "      <th>bathrooms</th>\n",
       "      <th>stories</th>\n",
       "      <th>mainroad</th>\n",
       "      <th>guestroom</th>\n",
       "      <th>basement</th>\n",
       "      <th>hotwaterheating</th>\n",
       "      <th>airconditioning</th>\n",
       "      <th>parking</th>\n",
       "      <th>prefarea</th>\n",
       "      <th>furnishingstatus</th>\n",
       "    </tr>\n",
       "  </thead>\n",
       "  <tbody>\n",
       "    <tr>\n",
       "      <th>0</th>\n",
       "      <td>13300000</td>\n",
       "      <td>7420</td>\n",
       "      <td>4</td>\n",
       "      <td>2</td>\n",
       "      <td>3</td>\n",
       "      <td>yes</td>\n",
       "      <td>no</td>\n",
       "      <td>no</td>\n",
       "      <td>no</td>\n",
       "      <td>yes</td>\n",
       "      <td>2</td>\n",
       "      <td>yes</td>\n",
       "      <td>furnished</td>\n",
       "    </tr>\n",
       "    <tr>\n",
       "      <th>1</th>\n",
       "      <td>12250000</td>\n",
       "      <td>8960</td>\n",
       "      <td>4</td>\n",
       "      <td>4</td>\n",
       "      <td>4</td>\n",
       "      <td>yes</td>\n",
       "      <td>no</td>\n",
       "      <td>no</td>\n",
       "      <td>no</td>\n",
       "      <td>yes</td>\n",
       "      <td>3</td>\n",
       "      <td>no</td>\n",
       "      <td>furnished</td>\n",
       "    </tr>\n",
       "    <tr>\n",
       "      <th>2</th>\n",
       "      <td>12250000</td>\n",
       "      <td>9960</td>\n",
       "      <td>3</td>\n",
       "      <td>2</td>\n",
       "      <td>2</td>\n",
       "      <td>yes</td>\n",
       "      <td>no</td>\n",
       "      <td>yes</td>\n",
       "      <td>no</td>\n",
       "      <td>no</td>\n",
       "      <td>2</td>\n",
       "      <td>yes</td>\n",
       "      <td>semi-furnished</td>\n",
       "    </tr>\n",
       "    <tr>\n",
       "      <th>3</th>\n",
       "      <td>12215000</td>\n",
       "      <td>7500</td>\n",
       "      <td>4</td>\n",
       "      <td>2</td>\n",
       "      <td>2</td>\n",
       "      <td>yes</td>\n",
       "      <td>no</td>\n",
       "      <td>yes</td>\n",
       "      <td>no</td>\n",
       "      <td>yes</td>\n",
       "      <td>3</td>\n",
       "      <td>yes</td>\n",
       "      <td>furnished</td>\n",
       "    </tr>\n",
       "    <tr>\n",
       "      <th>4</th>\n",
       "      <td>11410000</td>\n",
       "      <td>7420</td>\n",
       "      <td>4</td>\n",
       "      <td>1</td>\n",
       "      <td>2</td>\n",
       "      <td>yes</td>\n",
       "      <td>yes</td>\n",
       "      <td>yes</td>\n",
       "      <td>no</td>\n",
       "      <td>yes</td>\n",
       "      <td>2</td>\n",
       "      <td>no</td>\n",
       "      <td>furnished</td>\n",
       "    </tr>\n",
       "  </tbody>\n",
       "</table>\n",
       "</div>"
      ],
      "text/plain": [
       "      price  area  bedrooms  bathrooms  stories mainroad guestroom basement  \\\n",
       "0  13300000  7420         4          2        3      yes        no       no   \n",
       "1  12250000  8960         4          4        4      yes        no       no   \n",
       "2  12250000  9960         3          2        2      yes        no      yes   \n",
       "3  12215000  7500         4          2        2      yes        no      yes   \n",
       "4  11410000  7420         4          1        2      yes       yes      yes   \n",
       "\n",
       "  hotwaterheating airconditioning  parking prefarea furnishingstatus  \n",
       "0              no             yes        2      yes        furnished  \n",
       "1              no             yes        3       no        furnished  \n",
       "2              no              no        2      yes   semi-furnished  \n",
       "3              no             yes        3      yes        furnished  \n",
       "4              no             yes        2       no        furnished  "
      ]
     },
     "execution_count": 1,
     "metadata": {},
     "output_type": "execute_result"
    }
   ],
   "source": [
    "import pandas as pd\n",
    "\n",
    "#read in the data\n",
    "df = pd.read_csv('/kaggle/input/housing-prices-dataset/Housing.csv')\n",
    "\n",
    "#ensure data is imported\n",
    "df.head()"
   ]
  },
  {
   "cell_type": "code",
   "execution_count": 2,
   "id": "c4c21064",
   "metadata": {
    "execution": {
     "iopub.execute_input": "2023-02-26T20:51:01.687621Z",
     "iopub.status.busy": "2023-02-26T20:51:01.686544Z",
     "iopub.status.idle": "2023-02-26T20:51:01.694217Z",
     "shell.execute_reply": "2023-02-26T20:51:01.693226Z"
    },
    "papermill": {
     "duration": 0.029031,
     "end_time": "2023-02-26T20:51:01.696389",
     "exception": false,
     "start_time": "2023-02-26T20:51:01.667358",
     "status": "completed"
    },
    "tags": []
   },
   "outputs": [
    {
     "data": {
      "text/plain": [
       "Index(['price', 'area', 'bedrooms', 'bathrooms', 'stories', 'mainroad',\n",
       "       'guestroom', 'basement', 'hotwaterheating', 'airconditioning',\n",
       "       'parking', 'prefarea', 'furnishingstatus'],\n",
       "      dtype='object')"
      ]
     },
     "execution_count": 2,
     "metadata": {},
     "output_type": "execute_result"
    }
   ],
   "source": [
    "df.keys()#names of columns"
   ]
  },
  {
   "cell_type": "code",
   "execution_count": 3,
   "id": "635bdb79",
   "metadata": {
    "execution": {
     "iopub.execute_input": "2023-02-26T20:51:01.730713Z",
     "iopub.status.busy": "2023-02-26T20:51:01.730017Z",
     "iopub.status.idle": "2023-02-26T20:51:01.736658Z",
     "shell.execute_reply": "2023-02-26T20:51:01.735835Z"
    },
    "papermill": {
     "duration": 0.02623,
     "end_time": "2023-02-26T20:51:01.738705",
     "exception": false,
     "start_time": "2023-02-26T20:51:01.712475",
     "status": "completed"
    },
    "tags": []
   },
   "outputs": [
    {
     "data": {
      "text/plain": [
       "(545, 13)"
      ]
     },
     "execution_count": 3,
     "metadata": {},
     "output_type": "execute_result"
    }
   ],
   "source": [
    "df.shape#shape of dataset"
   ]
  },
  {
   "cell_type": "code",
   "execution_count": 4,
   "id": "43352ee5",
   "metadata": {
    "execution": {
     "iopub.execute_input": "2023-02-26T20:51:01.773693Z",
     "iopub.status.busy": "2023-02-26T20:51:01.772992Z",
     "iopub.status.idle": "2023-02-26T20:51:01.779566Z",
     "shell.execute_reply": "2023-02-26T20:51:01.778580Z"
    },
    "papermill": {
     "duration": 0.026309,
     "end_time": "2023-02-26T20:51:01.781603",
     "exception": false,
     "start_time": "2023-02-26T20:51:01.755294",
     "status": "completed"
    },
    "tags": []
   },
   "outputs": [
    {
     "data": {
      "text/plain": [
       "13"
      ]
     },
     "execution_count": 4,
     "metadata": {},
     "output_type": "execute_result"
    }
   ],
   "source": [
    "len(df.keys())#count of features"
   ]
  },
  {
   "cell_type": "code",
   "execution_count": 5,
   "id": "5a88e117",
   "metadata": {
    "execution": {
     "iopub.execute_input": "2023-02-26T20:51:01.816564Z",
     "iopub.status.busy": "2023-02-26T20:51:01.815723Z",
     "iopub.status.idle": "2023-02-26T20:51:01.838522Z",
     "shell.execute_reply": "2023-02-26T20:51:01.836873Z"
    },
    "papermill": {
     "duration": 0.042596,
     "end_time": "2023-02-26T20:51:01.840620",
     "exception": false,
     "start_time": "2023-02-26T20:51:01.798024",
     "status": "completed"
    },
    "tags": []
   },
   "outputs": [
    {
     "name": "stdout",
     "output_type": "stream",
     "text": [
      "<class 'pandas.core.frame.DataFrame'>\n",
      "RangeIndex: 545 entries, 0 to 544\n",
      "Data columns (total 13 columns):\n",
      " #   Column            Non-Null Count  Dtype \n",
      "---  ------            --------------  ----- \n",
      " 0   price             545 non-null    int64 \n",
      " 1   area              545 non-null    int64 \n",
      " 2   bedrooms          545 non-null    int64 \n",
      " 3   bathrooms         545 non-null    int64 \n",
      " 4   stories           545 non-null    int64 \n",
      " 5   mainroad          545 non-null    object\n",
      " 6   guestroom         545 non-null    object\n",
      " 7   basement          545 non-null    object\n",
      " 8   hotwaterheating   545 non-null    object\n",
      " 9   airconditioning   545 non-null    object\n",
      " 10  parking           545 non-null    int64 \n",
      " 11  prefarea          545 non-null    object\n",
      " 12  furnishingstatus  545 non-null    object\n",
      "dtypes: int64(6), object(7)\n",
      "memory usage: 55.5+ KB\n"
     ]
    }
   ],
   "source": [
    "df.info()#information about dataset; no null values"
   ]
  },
  {
   "cell_type": "code",
   "execution_count": 6,
   "id": "36fb113c",
   "metadata": {
    "execution": {
     "iopub.execute_input": "2023-02-26T20:51:01.875658Z",
     "iopub.status.busy": "2023-02-26T20:51:01.874877Z",
     "iopub.status.idle": "2023-02-26T20:51:01.909341Z",
     "shell.execute_reply": "2023-02-26T20:51:01.907814Z"
    },
    "papermill": {
     "duration": 0.054957,
     "end_time": "2023-02-26T20:51:01.912069",
     "exception": false,
     "start_time": "2023-02-26T20:51:01.857112",
     "status": "completed"
    },
    "tags": []
   },
   "outputs": [
    {
     "data": {
      "text/html": [
       "<div>\n",
       "<style scoped>\n",
       "    .dataframe tbody tr th:only-of-type {\n",
       "        vertical-align: middle;\n",
       "    }\n",
       "\n",
       "    .dataframe tbody tr th {\n",
       "        vertical-align: top;\n",
       "    }\n",
       "\n",
       "    .dataframe thead th {\n",
       "        text-align: right;\n",
       "    }\n",
       "</style>\n",
       "<table border=\"1\" class=\"dataframe\">\n",
       "  <thead>\n",
       "    <tr style=\"text-align: right;\">\n",
       "      <th></th>\n",
       "      <th>count</th>\n",
       "      <th>mean</th>\n",
       "      <th>std</th>\n",
       "      <th>min</th>\n",
       "      <th>25%</th>\n",
       "      <th>50%</th>\n",
       "      <th>75%</th>\n",
       "      <th>max</th>\n",
       "    </tr>\n",
       "  </thead>\n",
       "  <tbody>\n",
       "    <tr>\n",
       "      <th>price</th>\n",
       "      <td>545.0</td>\n",
       "      <td>4.766729e+06</td>\n",
       "      <td>1.870440e+06</td>\n",
       "      <td>1750000.0</td>\n",
       "      <td>3430000.0</td>\n",
       "      <td>4340000.0</td>\n",
       "      <td>5740000.0</td>\n",
       "      <td>13300000.0</td>\n",
       "    </tr>\n",
       "    <tr>\n",
       "      <th>area</th>\n",
       "      <td>545.0</td>\n",
       "      <td>5.150541e+03</td>\n",
       "      <td>2.170141e+03</td>\n",
       "      <td>1650.0</td>\n",
       "      <td>3600.0</td>\n",
       "      <td>4600.0</td>\n",
       "      <td>6360.0</td>\n",
       "      <td>16200.0</td>\n",
       "    </tr>\n",
       "    <tr>\n",
       "      <th>bedrooms</th>\n",
       "      <td>545.0</td>\n",
       "      <td>2.965138e+00</td>\n",
       "      <td>7.380639e-01</td>\n",
       "      <td>1.0</td>\n",
       "      <td>2.0</td>\n",
       "      <td>3.0</td>\n",
       "      <td>3.0</td>\n",
       "      <td>6.0</td>\n",
       "    </tr>\n",
       "    <tr>\n",
       "      <th>bathrooms</th>\n",
       "      <td>545.0</td>\n",
       "      <td>1.286239e+00</td>\n",
       "      <td>5.024696e-01</td>\n",
       "      <td>1.0</td>\n",
       "      <td>1.0</td>\n",
       "      <td>1.0</td>\n",
       "      <td>2.0</td>\n",
       "      <td>4.0</td>\n",
       "    </tr>\n",
       "    <tr>\n",
       "      <th>stories</th>\n",
       "      <td>545.0</td>\n",
       "      <td>1.805505e+00</td>\n",
       "      <td>8.674925e-01</td>\n",
       "      <td>1.0</td>\n",
       "      <td>1.0</td>\n",
       "      <td>2.0</td>\n",
       "      <td>2.0</td>\n",
       "      <td>4.0</td>\n",
       "    </tr>\n",
       "    <tr>\n",
       "      <th>parking</th>\n",
       "      <td>545.0</td>\n",
       "      <td>6.935780e-01</td>\n",
       "      <td>8.615858e-01</td>\n",
       "      <td>0.0</td>\n",
       "      <td>0.0</td>\n",
       "      <td>0.0</td>\n",
       "      <td>1.0</td>\n",
       "      <td>3.0</td>\n",
       "    </tr>\n",
       "  </tbody>\n",
       "</table>\n",
       "</div>"
      ],
      "text/plain": [
       "           count          mean           std        min        25%        50%  \\\n",
       "price      545.0  4.766729e+06  1.870440e+06  1750000.0  3430000.0  4340000.0   \n",
       "area       545.0  5.150541e+03  2.170141e+03     1650.0     3600.0     4600.0   \n",
       "bedrooms   545.0  2.965138e+00  7.380639e-01        1.0        2.0        3.0   \n",
       "bathrooms  545.0  1.286239e+00  5.024696e-01        1.0        1.0        1.0   \n",
       "stories    545.0  1.805505e+00  8.674925e-01        1.0        1.0        2.0   \n",
       "parking    545.0  6.935780e-01  8.615858e-01        0.0        0.0        0.0   \n",
       "\n",
       "                 75%         max  \n",
       "price      5740000.0  13300000.0  \n",
       "area          6360.0     16200.0  \n",
       "bedrooms         3.0         6.0  \n",
       "bathrooms        2.0         4.0  \n",
       "stories          2.0         4.0  \n",
       "parking          1.0         3.0  "
      ]
     },
     "execution_count": 6,
     "metadata": {},
     "output_type": "execute_result"
    }
   ],
   "source": [
    "df.describe().transpose()#summary stats"
   ]
  },
  {
   "cell_type": "code",
   "execution_count": 7,
   "id": "d766dea1",
   "metadata": {
    "execution": {
     "iopub.execute_input": "2023-02-26T20:51:01.946798Z",
     "iopub.status.busy": "2023-02-26T20:51:01.946415Z",
     "iopub.status.idle": "2023-02-26T20:51:01.951273Z",
     "shell.execute_reply": "2023-02-26T20:51:01.950111Z"
    },
    "papermill": {
     "duration": 0.024961,
     "end_time": "2023-02-26T20:51:01.953576",
     "exception": false,
     "start_time": "2023-02-26T20:51:01.928615",
     "status": "completed"
    },
    "tags": []
   },
   "outputs": [],
   "source": [
    "import matplotlib.pyplot as plt#matplotlib for visualizations"
   ]
  },
  {
   "cell_type": "code",
   "execution_count": 8,
   "id": "7a2d3d85",
   "metadata": {
    "execution": {
     "iopub.execute_input": "2023-02-26T20:51:01.988291Z",
     "iopub.status.busy": "2023-02-26T20:51:01.987862Z",
     "iopub.status.idle": "2023-02-26T20:51:02.457296Z",
     "shell.execute_reply": "2023-02-26T20:51:02.455968Z"
    },
    "papermill": {
     "duration": 0.489792,
     "end_time": "2023-02-26T20:51:02.459867",
     "exception": false,
     "start_time": "2023-02-26T20:51:01.970075",
     "status": "completed"
    },
    "tags": []
   },
   "outputs": [
    {
     "data": {
      "text/plain": [
       "array([[<AxesSubplot:title={'center':'price'}>,\n",
       "        <AxesSubplot:title={'center':'area'}>]], dtype=object)"
      ]
     },
     "execution_count": 8,
     "metadata": {},
     "output_type": "execute_result"
    },
    {
     "data": {
      "image/png": "[encoded data removed]",
      "text/plain": [
       "<Figure size 1440x720 with 2 Axes>"
      ]
     },
     "metadata": {
      "needs_background": "light"
     },
     "output_type": "display_data"
    }
   ],
   "source": [
    "df[['price','area']].hist(figsize = (20,10))#area and price dist skewed right  "
   ]
  },
  {
   "cell_type": "code",
   "execution_count": 9,
   "id": "56bbe23b",
   "metadata": {
    "execution": {
     "iopub.execute_input": "2023-02-26T20:51:02.495807Z",
     "iopub.status.busy": "2023-02-26T20:51:02.495401Z",
     "iopub.status.idle": "2023-02-26T20:51:03.246854Z",
     "shell.execute_reply": "2023-02-26T20:51:03.246054Z"
    },
    "papermill": {
     "duration": 0.772441,
     "end_time": "2023-02-26T20:51:03.249214",
     "exception": false,
     "start_time": "2023-02-26T20:51:02.476773",
     "status": "completed"
    },
    "tags": []
   },
   "outputs": [
    {
     "data": {
      "text/plain": [
       "array([[<AxesSubplot:title={'center':'bedrooms'}>,\n",
       "        <AxesSubplot:title={'center':'bathrooms'}>],\n",
       "       [<AxesSubplot:title={'center':'stories'}>,\n",
       "        <AxesSubplot:title={'center':'parking'}>]], dtype=object)"
      ]
     },
     "execution_count": 9,
     "metadata": {},
     "output_type": "execute_result"
    },
    {
     "data": {
      "image/png": "[encoded data removed]",
      "text/plain": [
       "<Figure size 1440x720 with 4 Axes>"
      ]
     },
     "metadata": {
      "needs_background": "light"
     },
     "output_type": "display_data"
    }
   ],
   "source": [
    "df.drop(['area','price'],axis=1).hist(figsize=(20,10))#dist of everything but area and price"
   ]
  },
  {
   "cell_type": "code",
   "execution_count": 10,
   "id": "91e718d6",
   "metadata": {
    "execution": {
     "iopub.execute_input": "2023-02-26T20:51:03.287533Z",
     "iopub.status.busy": "2023-02-26T20:51:03.286600Z",
     "iopub.status.idle": "2023-02-26T20:51:03.412661Z",
     "shell.execute_reply": "2023-02-26T20:51:03.411657Z"
    },
    "papermill": {
     "duration": 0.147671,
     "end_time": "2023-02-26T20:51:03.415274",
     "exception": false,
     "start_time": "2023-02-26T20:51:03.267603",
     "status": "completed"
    },
    "tags": []
   },
   "outputs": [
    {
     "data": {
      "text/plain": [
       "<AxesSubplot:>"
      ]
     },
     "execution_count": 10,
     "metadata": {},
     "output_type": "execute_result"
    },
    {
     "data": {
      "image/png": "[encoded data removed]",
      "text/plain": [
       "<Figure size 432x288 with 1 Axes>"
      ]
     },
     "metadata": {
      "needs_background": "light"
     },
     "output_type": "display_data"
    }
   ],
   "source": [
    "df.parking.value_counts().plot(kind='bar')#over 50 percent of houses in dataset have no parking"
   ]
  },
  {
   "cell_type": "code",
   "execution_count": 11,
   "id": "92a7c8b8",
   "metadata": {
    "execution": {
     "iopub.execute_input": "2023-02-26T20:51:03.455286Z",
     "iopub.status.busy": "2023-02-26T20:51:03.454497Z",
     "iopub.status.idle": "2023-02-26T20:51:03.581513Z",
     "shell.execute_reply": "2023-02-26T20:51:03.580323Z"
    },
    "papermill": {
     "duration": 0.150289,
     "end_time": "2023-02-26T20:51:03.584319",
     "exception": false,
     "start_time": "2023-02-26T20:51:03.434030",
     "status": "completed"
    },
    "tags": []
   },
   "outputs": [
    {
     "data": {
      "text/plain": [
       "<AxesSubplot:>"
      ]
     },
     "execution_count": 11,
     "metadata": {},
     "output_type": "execute_result"
    },
    {
     "data": {
      "image/png": "[encoded data removed]",
      "text/plain": [
       "<Figure size 432x288 with 1 Axes>"
      ]
     },
     "metadata": {
      "needs_background": "light"
     },
     "output_type": "display_data"
    }
   ],
   "source": [
    "df.bathrooms.value_counts().plot(kind='bar')#73 percent of homes have 1 bathroom"
   ]
  },
  {
   "cell_type": "code",
   "execution_count": 12,
   "id": "de6aebd5",
   "metadata": {
    "execution": {
     "iopub.execute_input": "2023-02-26T20:51:03.622578Z",
     "iopub.status.busy": "2023-02-26T20:51:03.622173Z",
     "iopub.status.idle": "2023-02-26T20:51:03.749568Z",
     "shell.execute_reply": "2023-02-26T20:51:03.748421Z"
    },
    "papermill": {
     "duration": 0.14952,
     "end_time": "2023-02-26T20:51:03.752183",
     "exception": false,
     "start_time": "2023-02-26T20:51:03.602663",
     "status": "completed"
    },
    "tags": []
   },
   "outputs": [
    {
     "data": {
      "text/plain": [
       "<AxesSubplot:>"
      ]
     },
     "execution_count": 12,
     "metadata": {},
     "output_type": "execute_result"
    },
    {
     "data": {
      "image/png": "[encoded data removed]",
      "text/plain": [
       "<Figure size 432x288 with 1 Axes>"
      ]
     },
     "metadata": {
      "needs_background": "light"
     },
     "output_type": "display_data"
    }
   ],
   "source": [
    "df.bedrooms.value_counts().plot(kind='bar')#55 percent of homes in dataset have 3 bedrooms"
   ]
  },
  {
   "cell_type": "code",
   "execution_count": 13,
   "id": "12152acf",
   "metadata": {
    "execution": {
     "iopub.execute_input": "2023-02-26T20:51:03.791399Z",
     "iopub.status.busy": "2023-02-26T20:51:03.790594Z",
     "iopub.status.idle": "2023-02-26T20:51:03.893701Z",
     "shell.execute_reply": "2023-02-26T20:51:03.892865Z"
    },
    "papermill": {
     "duration": 0.125297,
     "end_time": "2023-02-26T20:51:03.896010",
     "exception": false,
     "start_time": "2023-02-26T20:51:03.770713",
     "status": "completed"
    },
    "tags": []
   },
   "outputs": [
    {
     "data": {
      "text/plain": [
       "<AxesSubplot:>"
      ]
     },
     "execution_count": 13,
     "metadata": {},
     "output_type": "execute_result"
    },
    {
     "data": {
      "image/png": "[encoded data removed]",
      "text/plain": [
       "<Figure size 432x288 with 1 Axes>"
      ]
     },
     "metadata": {
      "needs_background": "light"
     },
     "output_type": "display_data"
    }
   ],
   "source": [
    "df.mainroad.value_counts().plot(kind='bar')#has a main road"
   ]
  },
  {
   "cell_type": "code",
   "execution_count": 14,
   "id": "ffd940c1",
   "metadata": {
    "execution": {
     "iopub.execute_input": "2023-02-26T20:51:03.936542Z",
     "iopub.status.busy": "2023-02-26T20:51:03.935707Z",
     "iopub.status.idle": "2023-02-26T20:51:04.040165Z",
     "shell.execute_reply": "2023-02-26T20:51:04.038968Z"
    },
    "papermill": {
     "duration": 0.127488,
     "end_time": "2023-02-26T20:51:04.042489",
     "exception": false,
     "start_time": "2023-02-26T20:51:03.915001",
     "status": "completed"
    },
    "tags": []
   },
   "outputs": [
    {
     "data": {
      "text/plain": [
       "<AxesSubplot:>"
      ]
     },
     "execution_count": 14,
     "metadata": {},
     "output_type": "execute_result"
    },
    {
     "data": {
      "image/png": "[encoded data removed]",
      "text/plain": [
       "<Figure size 432x288 with 1 Axes>"
      ]
     },
     "metadata": {
      "needs_background": "light"
     },
     "output_type": "display_data"
    }
   ],
   "source": [
    "df.guestroom.value_counts().plot(kind='bar')#has guestroom"
   ]
  },
  {
   "cell_type": "code",
   "execution_count": 15,
   "id": "c5534d75",
   "metadata": {
    "execution": {
     "iopub.execute_input": "2023-02-26T20:51:04.083107Z",
     "iopub.status.busy": "2023-02-26T20:51:04.082370Z",
     "iopub.status.idle": "2023-02-26T20:51:04.196316Z",
     "shell.execute_reply": "2023-02-26T20:51:04.195206Z"
    },
    "papermill": {
     "duration": 0.137509,
     "end_time": "2023-02-26T20:51:04.199123",
     "exception": false,
     "start_time": "2023-02-26T20:51:04.061614",
     "status": "completed"
    },
    "tags": []
   },
   "outputs": [
    {
     "data": {
      "text/plain": [
       "<AxesSubplot:>"
      ]
     },
     "execution_count": 15,
     "metadata": {},
     "output_type": "execute_result"
    },
    {
     "data": {
      "image/png": "[encoded data removed]",
      "text/plain": [
       "<Figure size 432x288 with 1 Axes>"
      ]
     },
     "metadata": {
      "needs_background": "light"
     },
     "output_type": "display_data"
    }
   ],
   "source": [
    "df.basement.value_counts().plot(kind='bar')#has basement"
   ]
  },
  {
   "cell_type": "code",
   "execution_count": 16,
   "id": "22b00dd1",
   "metadata": {
    "execution": {
     "iopub.execute_input": "2023-02-26T20:51:04.241531Z",
     "iopub.status.busy": "2023-02-26T20:51:04.240686Z",
     "iopub.status.idle": "2023-02-26T20:51:04.349667Z",
     "shell.execute_reply": "2023-02-26T20:51:04.348818Z"
    },
    "papermill": {
     "duration": 0.13346,
     "end_time": "2023-02-26T20:51:04.352357",
     "exception": false,
     "start_time": "2023-02-26T20:51:04.218897",
     "status": "completed"
    },
    "tags": []
   },
   "outputs": [
    {
     "data": {
      "text/plain": [
       "<AxesSubplot:>"
      ]
     },
     "execution_count": 16,
     "metadata": {},
     "output_type": "execute_result"
    },
    {
     "data": {
      "image/png": "[encoded data removed]",
      "text/plain": [
       "<Figure size 432x288 with 1 Axes>"
      ]
     },
     "metadata": {
      "needs_background": "light"
     },
     "output_type": "display_data"
    }
   ],
   "source": [
    "df.hotwaterheating.value_counts().plot(kind='bar')#most homes have no hot water heating"
   ]
  },
  {
   "cell_type": "code",
   "execution_count": 17,
   "id": "e3d74e1e",
   "metadata": {
    "execution": {
     "iopub.execute_input": "2023-02-26T20:51:04.394248Z",
     "iopub.status.busy": "2023-02-26T20:51:04.393524Z",
     "iopub.status.idle": "2023-02-26T20:51:04.508334Z",
     "shell.execute_reply": "2023-02-26T20:51:04.507300Z"
    },
    "papermill": {
     "duration": 0.138378,
     "end_time": "2023-02-26T20:51:04.510618",
     "exception": false,
     "start_time": "2023-02-26T20:51:04.372240",
     "status": "completed"
    },
    "tags": []
   },
   "outputs": [
    {
     "data": {
      "text/plain": [
       "<AxesSubplot:>"
      ]
     },
     "execution_count": 17,
     "metadata": {},
     "output_type": "execute_result"
    },
    {
     "data": {
      "image/png": "[encoded data removed]",
      "text/plain": [
       "<Figure size 432x288 with 1 Axes>"
      ]
     },
     "metadata": {
      "needs_background": "light"
     },
     "output_type": "display_data"
    }
   ],
   "source": [
    "df.airconditioning.value_counts().plot(kind='bar')#70 percent of homes have no airconditioning"
   ]
  },
  {
   "cell_type": "code",
   "execution_count": 18,
   "id": "b3b0a986",
   "metadata": {
    "execution": {
     "iopub.execute_input": "2023-02-26T20:51:04.552515Z",
     "iopub.status.busy": "2023-02-26T20:51:04.552126Z",
     "iopub.status.idle": "2023-02-26T20:51:04.681788Z",
     "shell.execute_reply": "2023-02-26T20:51:04.681008Z"
    },
    "papermill": {
     "duration": 0.153469,
     "end_time": "2023-02-26T20:51:04.684323",
     "exception": false,
     "start_time": "2023-02-26T20:51:04.530854",
     "status": "completed"
    },
    "tags": []
   },
   "outputs": [
    {
     "data": {
      "text/plain": [
       "<AxesSubplot:>"
      ]
     },
     "execution_count": 18,
     "metadata": {},
     "output_type": "execute_result"
    },
    {
     "data": {
      "image/png": "[encoded data removed]",
      "text/plain": [
       "<Figure size 432x288 with 1 Axes>"
      ]
     },
     "metadata": {
      "needs_background": "light"
     },
     "output_type": "display_data"
    }
   ],
   "source": [
    "df.prefarea.value_counts().plot(kind='bar')#76 percent homes have no prefarea"
   ]
  },
  {
   "cell_type": "code",
   "execution_count": 19,
   "id": "a79d0541",
   "metadata": {
    "execution": {
     "iopub.execute_input": "2023-02-26T20:51:04.727675Z",
     "iopub.status.busy": "2023-02-26T20:51:04.726518Z",
     "iopub.status.idle": "2023-02-26T20:51:04.838159Z",
     "shell.execute_reply": "2023-02-26T20:51:04.836994Z"
    },
    "papermill": {
     "duration": 0.136311,
     "end_time": "2023-02-26T20:51:04.840797",
     "exception": false,
     "start_time": "2023-02-26T20:51:04.704486",
     "status": "completed"
    },
    "tags": []
   },
   "outputs": [
    {
     "data": {
      "text/plain": [
       "<AxesSubplot:>"
      ]
     },
     "execution_count": 19,
     "metadata": {},
     "output_type": "execute_result"
    },
    {
     "data": {
      "image/png": "[encoded data removed]",
      "text/plain": [
       "<Figure size 432x288 with 1 Axes>"
      ]
     },
     "metadata": {
      "needs_background": "light"
     },
     "output_type": "display_data"
    }
   ],
   "source": [
    "df.furnishingstatus.value_counts().plot(kind='bar')#needs converting to dummies"
   ]
  },
  {
   "cell_type": "code",
   "execution_count": 20,
   "id": "33a9a676",
   "metadata": {
    "execution": {
     "iopub.execute_input": "2023-02-26T20:51:04.885503Z",
     "iopub.status.busy": "2023-02-26T20:51:04.884468Z",
     "iopub.status.idle": "2023-02-26T20:51:04.890599Z",
     "shell.execute_reply": "2023-02-26T20:51:04.889820Z"
    },
    "papermill": {
     "duration": 0.030399,
     "end_time": "2023-02-26T20:51:04.892746",
     "exception": false,
     "start_time": "2023-02-26T20:51:04.862347",
     "status": "completed"
    },
    "tags": []
   },
   "outputs": [],
   "source": [
    "def convert_binary(column):#function to convert yes/no columns to binary\n",
    "    if column == 'yes':\n",
    "        column = 1\n",
    "    else:\n",
    "        column = 0\n",
    "    return column"
   ]
  },
  {
   "cell_type": "code",
   "execution_count": 21,
   "id": "2224c4aa",
   "metadata": {
    "execution": {
     "iopub.execute_input": "2023-02-26T20:51:04.936301Z",
     "iopub.status.busy": "2023-02-26T20:51:04.935587Z",
     "iopub.status.idle": "2023-02-26T20:51:04.939841Z",
     "shell.execute_reply": "2023-02-26T20:51:04.939098Z"
    },
    "papermill": {
     "duration": 0.028388,
     "end_time": "2023-02-26T20:51:04.942035",
     "exception": false,
     "start_time": "2023-02-26T20:51:04.913647",
     "status": "completed"
    },
    "tags": []
   },
   "outputs": [],
   "source": [
    "#subset of columns to convert to binary 0/1\n",
    "columns = ['mainroad','guestroom','basement','hotwaterheating','airconditioning','parking', 'prefarea']"
   ]
  },
  {
   "cell_type": "code",
   "execution_count": 22,
   "id": "2d9fd074",
   "metadata": {
    "execution": {
     "iopub.execute_input": "2023-02-26T20:51:04.985202Z",
     "iopub.status.busy": "2023-02-26T20:51:04.984534Z",
     "iopub.status.idle": "2023-02-26T20:51:04.994418Z",
     "shell.execute_reply": "2023-02-26T20:51:04.993605Z"
    },
    "papermill": {
     "duration": 0.033959,
     "end_time": "2023-02-26T20:51:04.996565",
     "exception": false,
     "start_time": "2023-02-26T20:51:04.962606",
     "status": "completed"
    },
    "tags": []
   },
   "outputs": [],
   "source": [
    "for item in columns:#loop through columns and apply convert_binary\n",
    "    df[item] = df[item].apply(convert_binary)"
   ]
  },
  {
   "cell_type": "code",
   "execution_count": 23,
   "id": "3a5b2b00",
   "metadata": {
    "execution": {
     "iopub.execute_input": "2023-02-26T20:51:05.040803Z",
     "iopub.status.busy": "2023-02-26T20:51:05.040116Z",
     "iopub.status.idle": "2023-02-26T20:51:05.054129Z",
     "shell.execute_reply": "2023-02-26T20:51:05.052956Z"
    },
    "papermill": {
     "duration": 0.039625,
     "end_time": "2023-02-26T20:51:05.056449",
     "exception": false,
     "start_time": "2023-02-26T20:51:05.016824",
     "status": "completed"
    },
    "tags": []
   },
   "outputs": [
    {
     "data": {
      "text/html": [
       "<div>\n",
       "<style scoped>\n",
       "    .dataframe tbody tr th:only-of-type {\n",
       "        vertical-align: middle;\n",
       "    }\n",
       "\n",
       "    .dataframe tbody tr th {\n",
       "        vertical-align: top;\n",
       "    }\n",
       "\n",
       "    .dataframe thead th {\n",
       "        text-align: right;\n",
       "    }\n",
       "</style>\n",
       "<table border=\"1\" class=\"dataframe\">\n",
       "  <thead>\n",
       "    <tr style=\"text-align: right;\">\n",
       "      <th></th>\n",
       "      <th>price</th>\n",
       "      <th>area</th>\n",
       "      <th>bedrooms</th>\n",
       "      <th>bathrooms</th>\n",
       "      <th>stories</th>\n",
       "      <th>mainroad</th>\n",
       "      <th>guestroom</th>\n",
       "      <th>basement</th>\n",
       "      <th>hotwaterheating</th>\n",
       "      <th>airconditioning</th>\n",
       "      <th>parking</th>\n",
       "      <th>prefarea</th>\n",
       "      <th>furnishingstatus</th>\n",
       "    </tr>\n",
       "  </thead>\n",
       "  <tbody>\n",
       "    <tr>\n",
       "      <th>0</th>\n",
       "      <td>13300000</td>\n",
       "      <td>7420</td>\n",
       "      <td>4</td>\n",
       "      <td>2</td>\n",
       "      <td>3</td>\n",
       "      <td>1</td>\n",
       "      <td>0</td>\n",
       "      <td>0</td>\n",
       "      <td>0</td>\n",
       "      <td>1</td>\n",
       "      <td>0</td>\n",
       "      <td>1</td>\n",
       "      <td>furnished</td>\n",
       "    </tr>\n",
       "    <tr>\n",
       "      <th>1</th>\n",
       "      <td>12250000</td>\n",
       "      <td>8960</td>\n",
       "      <td>4</td>\n",
       "      <td>4</td>\n",
       "      <td>4</td>\n",
       "      <td>1</td>\n",
       "      <td>0</td>\n",
       "      <td>0</td>\n",
       "      <td>0</td>\n",
       "      <td>1</td>\n",
       "      <td>0</td>\n",
       "      <td>0</td>\n",
       "      <td>furnished</td>\n",
       "    </tr>\n",
       "    <tr>\n",
       "      <th>2</th>\n",
       "      <td>12250000</td>\n",
       "      <td>9960</td>\n",
       "      <td>3</td>\n",
       "      <td>2</td>\n",
       "      <td>2</td>\n",
       "      <td>1</td>\n",
       "      <td>0</td>\n",
       "      <td>1</td>\n",
       "      <td>0</td>\n",
       "      <td>0</td>\n",
       "      <td>0</td>\n",
       "      <td>1</td>\n",
       "      <td>semi-furnished</td>\n",
       "    </tr>\n",
       "    <tr>\n",
       "      <th>3</th>\n",
       "      <td>12215000</td>\n",
       "      <td>7500</td>\n",
       "      <td>4</td>\n",
       "      <td>2</td>\n",
       "      <td>2</td>\n",
       "      <td>1</td>\n",
       "      <td>0</td>\n",
       "      <td>1</td>\n",
       "      <td>0</td>\n",
       "      <td>1</td>\n",
       "      <td>0</td>\n",
       "      <td>1</td>\n",
       "      <td>furnished</td>\n",
       "    </tr>\n",
       "    <tr>\n",
       "      <th>4</th>\n",
       "      <td>11410000</td>\n",
       "      <td>7420</td>\n",
       "      <td>4</td>\n",
       "      <td>1</td>\n",
       "      <td>2</td>\n",
       "      <td>1</td>\n",
       "      <td>1</td>\n",
       "      <td>1</td>\n",
       "      <td>0</td>\n",
       "      <td>1</td>\n",
       "      <td>0</td>\n",
       "      <td>0</td>\n",
       "      <td>furnished</td>\n",
       "    </tr>\n",
       "  </tbody>\n",
       "</table>\n",
       "</div>"
      ],
      "text/plain": [
       "      price  area  bedrooms  bathrooms  stories  mainroad  guestroom  \\\n",
       "0  13300000  7420         4          2        3         1          0   \n",
       "1  12250000  8960         4          4        4         1          0   \n",
       "2  12250000  9960         3          2        2         1          0   \n",
       "3  12215000  7500         4          2        2         1          0   \n",
       "4  11410000  7420         4          1        2         1          1   \n",
       "\n",
       "   basement  hotwaterheating  airconditioning  parking  prefarea  \\\n",
       "0         0                0                1        0         1   \n",
       "1         0                0                1        0         0   \n",
       "2         1                0                0        0         1   \n",
       "3         1                0                1        0         1   \n",
       "4         1                0                1        0         0   \n",
       "\n",
       "  furnishingstatus  \n",
       "0        furnished  \n",
       "1        furnished  \n",
       "2   semi-furnished  \n",
       "3        furnished  \n",
       "4        furnished  "
      ]
     },
     "execution_count": 23,
     "metadata": {},
     "output_type": "execute_result"
    }
   ],
   "source": [
    "df.head()#check to ensure columns are converted"
   ]
  },
  {
   "cell_type": "code",
   "execution_count": 24,
   "id": "15da8051",
   "metadata": {
    "execution": {
     "iopub.execute_input": "2023-02-26T20:51:05.100177Z",
     "iopub.status.busy": "2023-02-26T20:51:05.099492Z",
     "iopub.status.idle": "2023-02-26T20:51:05.105041Z",
     "shell.execute_reply": "2023-02-26T20:51:05.104200Z"
    },
    "papermill": {
     "duration": 0.029896,
     "end_time": "2023-02-26T20:51:05.107235",
     "exception": false,
     "start_time": "2023-02-26T20:51:05.077339",
     "status": "completed"
    },
    "tags": []
   },
   "outputs": [],
   "source": [
    "dummies = pd.get_dummies(df['furnishingstatus'], drop_first=True)#get dummy variables for furnishingstatus"
   ]
  },
  {
   "cell_type": "code",
   "execution_count": 25,
   "id": "371fcd7e",
   "metadata": {
    "execution": {
     "iopub.execute_input": "2023-02-26T20:51:05.150633Z",
     "iopub.status.busy": "2023-02-26T20:51:05.150219Z",
     "iopub.status.idle": "2023-02-26T20:51:05.159286Z",
     "shell.execute_reply": "2023-02-26T20:51:05.158291Z"
    },
    "papermill": {
     "duration": 0.033278,
     "end_time": "2023-02-26T20:51:05.161388",
     "exception": false,
     "start_time": "2023-02-26T20:51:05.128110",
     "status": "completed"
    },
    "tags": []
   },
   "outputs": [
    {
     "data": {
      "text/html": [
       "<div>\n",
       "<style scoped>\n",
       "    .dataframe tbody tr th:only-of-type {\n",
       "        vertical-align: middle;\n",
       "    }\n",
       "\n",
       "    .dataframe tbody tr th {\n",
       "        vertical-align: top;\n",
       "    }\n",
       "\n",
       "    .dataframe thead th {\n",
       "        text-align: right;\n",
       "    }\n",
       "</style>\n",
       "<table border=\"1\" class=\"dataframe\">\n",
       "  <thead>\n",
       "    <tr style=\"text-align: right;\">\n",
       "      <th></th>\n",
       "      <th>semi-furnished</th>\n",
       "      <th>unfurnished</th>\n",
       "    </tr>\n",
       "  </thead>\n",
       "  <tbody>\n",
       "    <tr>\n",
       "      <th>0</th>\n",
       "      <td>0</td>\n",
       "      <td>0</td>\n",
       "    </tr>\n",
       "    <tr>\n",
       "      <th>1</th>\n",
       "      <td>0</td>\n",
       "      <td>0</td>\n",
       "    </tr>\n",
       "    <tr>\n",
       "      <th>2</th>\n",
       "      <td>1</td>\n",
       "      <td>0</td>\n",
       "    </tr>\n",
       "    <tr>\n",
       "      <th>3</th>\n",
       "      <td>0</td>\n",
       "      <td>0</td>\n",
       "    </tr>\n",
       "    <tr>\n",
       "      <th>4</th>\n",
       "      <td>0</td>\n",
       "      <td>0</td>\n",
       "    </tr>\n",
       "  </tbody>\n",
       "</table>\n",
       "</div>"
      ],
      "text/plain": [
       "   semi-furnished  unfurnished\n",
       "0               0            0\n",
       "1               0            0\n",
       "2               1            0\n",
       "3               0            0\n",
       "4               0            0"
      ]
     },
     "execution_count": 25,
     "metadata": {},
     "output_type": "execute_result"
    }
   ],
   "source": [
    "dummies.head()"
   ]
  },
  {
   "cell_type": "code",
   "execution_count": 26,
   "id": "215bc5a6",
   "metadata": {
    "execution": {
     "iopub.execute_input": "2023-02-26T20:51:05.205697Z",
     "iopub.status.busy": "2023-02-26T20:51:05.204610Z",
     "iopub.status.idle": "2023-02-26T20:51:05.210814Z",
     "shell.execute_reply": "2023-02-26T20:51:05.210050Z"
    },
    "papermill": {
     "duration": 0.030377,
     "end_time": "2023-02-26T20:51:05.212868",
     "exception": false,
     "start_time": "2023-02-26T20:51:05.182491",
     "status": "completed"
    },
    "tags": []
   },
   "outputs": [],
   "source": [
    "df = pd.concat([df,dummies], axis=1)#concatenate dummies to original df"
   ]
  },
  {
   "cell_type": "code",
   "execution_count": 27,
   "id": "286975ce",
   "metadata": {
    "execution": {
     "iopub.execute_input": "2023-02-26T20:51:05.257033Z",
     "iopub.status.busy": "2023-02-26T20:51:05.256192Z",
     "iopub.status.idle": "2023-02-26T20:51:05.270698Z",
     "shell.execute_reply": "2023-02-26T20:51:05.269977Z"
    },
    "papermill": {
     "duration": 0.038761,
     "end_time": "2023-02-26T20:51:05.272819",
     "exception": false,
     "start_time": "2023-02-26T20:51:05.234058",
     "status": "completed"
    },
    "tags": []
   },
   "outputs": [
    {
     "data": {
      "text/html": [
       "<div>\n",
       "<style scoped>\n",
       "    .dataframe tbody tr th:only-of-type {\n",
       "        vertical-align: middle;\n",
       "    }\n",
       "\n",
       "    .dataframe tbody tr th {\n",
       "        vertical-align: top;\n",
       "    }\n",
       "\n",
       "    .dataframe thead th {\n",
       "        text-align: right;\n",
       "    }\n",
       "</style>\n",
       "<table border=\"1\" class=\"dataframe\">\n",
       "  <thead>\n",
       "    <tr style=\"text-align: right;\">\n",
       "      <th></th>\n",
       "      <th>price</th>\n",
       "      <th>area</th>\n",
       "      <th>bedrooms</th>\n",
       "      <th>bathrooms</th>\n",
       "      <th>stories</th>\n",
       "      <th>mainroad</th>\n",
       "      <th>guestroom</th>\n",
       "      <th>basement</th>\n",
       "      <th>hotwaterheating</th>\n",
       "      <th>airconditioning</th>\n",
       "      <th>parking</th>\n",
       "      <th>prefarea</th>\n",
       "      <th>furnishingstatus</th>\n",
       "      <th>semi-furnished</th>\n",
       "      <th>unfurnished</th>\n",
       "    </tr>\n",
       "  </thead>\n",
       "  <tbody>\n",
       "    <tr>\n",
       "      <th>0</th>\n",
       "      <td>13300000</td>\n",
       "      <td>7420</td>\n",
       "      <td>4</td>\n",
       "      <td>2</td>\n",
       "      <td>3</td>\n",
       "      <td>1</td>\n",
       "      <td>0</td>\n",
       "      <td>0</td>\n",
       "      <td>0</td>\n",
       "      <td>1</td>\n",
       "      <td>0</td>\n",
       "      <td>1</td>\n",
       "      <td>furnished</td>\n",
       "      <td>0</td>\n",
       "      <td>0</td>\n",
       "    </tr>\n",
       "    <tr>\n",
       "      <th>1</th>\n",
       "      <td>12250000</td>\n",
       "      <td>8960</td>\n",
       "      <td>4</td>\n",
       "      <td>4</td>\n",
       "      <td>4</td>\n",
       "      <td>1</td>\n",
       "      <td>0</td>\n",
       "      <td>0</td>\n",
       "      <td>0</td>\n",
       "      <td>1</td>\n",
       "      <td>0</td>\n",
       "      <td>0</td>\n",
       "      <td>furnished</td>\n",
       "      <td>0</td>\n",
       "      <td>0</td>\n",
       "    </tr>\n",
       "    <tr>\n",
       "      <th>2</th>\n",
       "      <td>12250000</td>\n",
       "      <td>9960</td>\n",
       "      <td>3</td>\n",
       "      <td>2</td>\n",
       "      <td>2</td>\n",
       "      <td>1</td>\n",
       "      <td>0</td>\n",
       "      <td>1</td>\n",
       "      <td>0</td>\n",
       "      <td>0</td>\n",
       "      <td>0</td>\n",
       "      <td>1</td>\n",
       "      <td>semi-furnished</td>\n",
       "      <td>1</td>\n",
       "      <td>0</td>\n",
       "    </tr>\n",
       "    <tr>\n",
       "      <th>3</th>\n",
       "      <td>12215000</td>\n",
       "      <td>7500</td>\n",
       "      <td>4</td>\n",
       "      <td>2</td>\n",
       "      <td>2</td>\n",
       "      <td>1</td>\n",
       "      <td>0</td>\n",
       "      <td>1</td>\n",
       "      <td>0</td>\n",
       "      <td>1</td>\n",
       "      <td>0</td>\n",
       "      <td>1</td>\n",
       "      <td>furnished</td>\n",
       "      <td>0</td>\n",
       "      <td>0</td>\n",
       "    </tr>\n",
       "    <tr>\n",
       "      <th>4</th>\n",
       "      <td>11410000</td>\n",
       "      <td>7420</td>\n",
       "      <td>4</td>\n",
       "      <td>1</td>\n",
       "      <td>2</td>\n",
       "      <td>1</td>\n",
       "      <td>1</td>\n",
       "      <td>1</td>\n",
       "      <td>0</td>\n",
       "      <td>1</td>\n",
       "      <td>0</td>\n",
       "      <td>0</td>\n",
       "      <td>furnished</td>\n",
       "      <td>0</td>\n",
       "      <td>0</td>\n",
       "    </tr>\n",
       "  </tbody>\n",
       "</table>\n",
       "</div>"
      ],
      "text/plain": [
       "      price  area  bedrooms  bathrooms  stories  mainroad  guestroom  \\\n",
       "0  13300000  7420         4          2        3         1          0   \n",
       "1  12250000  8960         4          4        4         1          0   \n",
       "2  12250000  9960         3          2        2         1          0   \n",
       "3  12215000  7500         4          2        2         1          0   \n",
       "4  11410000  7420         4          1        2         1          1   \n",
       "\n",
       "   basement  hotwaterheating  airconditioning  parking  prefarea  \\\n",
       "0         0                0                1        0         1   \n",
       "1         0                0                1        0         0   \n",
       "2         1                0                0        0         1   \n",
       "3         1                0                1        0         1   \n",
       "4         1                0                1        0         0   \n",
       "\n",
       "  furnishingstatus  semi-furnished  unfurnished  \n",
       "0        furnished               0            0  \n",
       "1        furnished               0            0  \n",
       "2   semi-furnished               1            0  \n",
       "3        furnished               0            0  \n",
       "4        furnished               0            0  "
      ]
     },
     "execution_count": 27,
     "metadata": {},
     "output_type": "execute_result"
    }
   ],
   "source": [
    "df.head()#ensure changes worked"
   ]
  },
  {
   "cell_type": "code",
   "execution_count": 28,
   "id": "baae639f",
   "metadata": {
    "execution": {
     "iopub.execute_input": "2023-02-26T20:51:05.317267Z",
     "iopub.status.busy": "2023-02-26T20:51:05.316371Z",
     "iopub.status.idle": "2023-02-26T20:51:05.323381Z",
     "shell.execute_reply": "2023-02-26T20:51:05.322293Z"
    },
    "papermill": {
     "duration": 0.031873,
     "end_time": "2023-02-26T20:51:05.325865",
     "exception": false,
     "start_time": "2023-02-26T20:51:05.293992",
     "status": "completed"
    },
    "tags": []
   },
   "outputs": [],
   "source": [
    "df.drop('furnishingstatus', inplace=True, axis=1)#drop furnishingstatus from data set"
   ]
  },
  {
   "cell_type": "code",
   "execution_count": 29,
   "id": "6af852fd",
   "metadata": {
    "execution": {
     "iopub.execute_input": "2023-02-26T20:51:05.369815Z",
     "iopub.status.busy": "2023-02-26T20:51:05.369410Z",
     "iopub.status.idle": "2023-02-26T20:51:05.385288Z",
     "shell.execute_reply": "2023-02-26T20:51:05.384160Z"
    },
    "papermill": {
     "duration": 0.040438,
     "end_time": "2023-02-26T20:51:05.387659",
     "exception": false,
     "start_time": "2023-02-26T20:51:05.347221",
     "status": "completed"
    },
    "tags": []
   },
   "outputs": [
    {
     "data": {
      "text/html": [
       "<div>\n",
       "<style scoped>\n",
       "    .dataframe tbody tr th:only-of-type {\n",
       "        vertical-align: middle;\n",
       "    }\n",
       "\n",
       "    .dataframe tbody tr th {\n",
       "        vertical-align: top;\n",
       "    }\n",
       "\n",
       "    .dataframe thead th {\n",
       "        text-align: right;\n",
       "    }\n",
       "</style>\n",
       "<table border=\"1\" class=\"dataframe\">\n",
       "  <thead>\n",
       "    <tr style=\"text-align: right;\">\n",
       "      <th></th>\n",
       "      <th>price</th>\n",
       "      <th>area</th>\n",
       "      <th>bedrooms</th>\n",
       "      <th>bathrooms</th>\n",
       "      <th>stories</th>\n",
       "      <th>mainroad</th>\n",
       "      <th>guestroom</th>\n",
       "      <th>basement</th>\n",
       "      <th>hotwaterheating</th>\n",
       "      <th>airconditioning</th>\n",
       "      <th>parking</th>\n",
       "      <th>prefarea</th>\n",
       "      <th>semi-furnished</th>\n",
       "      <th>unfurnished</th>\n",
       "    </tr>\n",
       "  </thead>\n",
       "  <tbody>\n",
       "    <tr>\n",
       "      <th>0</th>\n",
       "      <td>13300000</td>\n",
       "      <td>7420</td>\n",
       "      <td>4</td>\n",
       "      <td>2</td>\n",
       "      <td>3</td>\n",
       "      <td>1</td>\n",
       "      <td>0</td>\n",
       "      <td>0</td>\n",
       "      <td>0</td>\n",
       "      <td>1</td>\n",
       "      <td>0</td>\n",
       "      <td>1</td>\n",
       "      <td>0</td>\n",
       "      <td>0</td>\n",
       "    </tr>\n",
       "    <tr>\n",
       "      <th>1</th>\n",
       "      <td>12250000</td>\n",
       "      <td>8960</td>\n",
       "      <td>4</td>\n",
       "      <td>4</td>\n",
       "      <td>4</td>\n",
       "      <td>1</td>\n",
       "      <td>0</td>\n",
       "      <td>0</td>\n",
       "      <td>0</td>\n",
       "      <td>1</td>\n",
       "      <td>0</td>\n",
       "      <td>0</td>\n",
       "      <td>0</td>\n",
       "      <td>0</td>\n",
       "    </tr>\n",
       "    <tr>\n",
       "      <th>2</th>\n",
       "      <td>12250000</td>\n",
       "      <td>9960</td>\n",
       "      <td>3</td>\n",
       "      <td>2</td>\n",
       "      <td>2</td>\n",
       "      <td>1</td>\n",
       "      <td>0</td>\n",
       "      <td>1</td>\n",
       "      <td>0</td>\n",
       "      <td>0</td>\n",
       "      <td>0</td>\n",
       "      <td>1</td>\n",
       "      <td>1</td>\n",
       "      <td>0</td>\n",
       "    </tr>\n",
       "    <tr>\n",
       "      <th>3</th>\n",
       "      <td>12215000</td>\n",
       "      <td>7500</td>\n",
       "      <td>4</td>\n",
       "      <td>2</td>\n",
       "      <td>2</td>\n",
       "      <td>1</td>\n",
       "      <td>0</td>\n",
       "      <td>1</td>\n",
       "      <td>0</td>\n",
       "      <td>1</td>\n",
       "      <td>0</td>\n",
       "      <td>1</td>\n",
       "      <td>0</td>\n",
       "      <td>0</td>\n",
       "    </tr>\n",
       "    <tr>\n",
       "      <th>4</th>\n",
       "      <td>11410000</td>\n",
       "      <td>7420</td>\n",
       "      <td>4</td>\n",
       "      <td>1</td>\n",
       "      <td>2</td>\n",
       "      <td>1</td>\n",
       "      <td>1</td>\n",
       "      <td>1</td>\n",
       "      <td>0</td>\n",
       "      <td>1</td>\n",
       "      <td>0</td>\n",
       "      <td>0</td>\n",
       "      <td>0</td>\n",
       "      <td>0</td>\n",
       "    </tr>\n",
       "  </tbody>\n",
       "</table>\n",
       "</div>"
      ],
      "text/plain": [
       "      price  area  bedrooms  bathrooms  stories  mainroad  guestroom  \\\n",
       "0  13300000  7420         4          2        3         1          0   \n",
       "1  12250000  8960         4          4        4         1          0   \n",
       "2  12250000  9960         3          2        2         1          0   \n",
       "3  12215000  7500         4          2        2         1          0   \n",
       "4  11410000  7420         4          1        2         1          1   \n",
       "\n",
       "   basement  hotwaterheating  airconditioning  parking  prefarea  \\\n",
       "0         0                0                1        0         1   \n",
       "1         0                0                1        0         0   \n",
       "2         1                0                0        0         1   \n",
       "3         1                0                1        0         1   \n",
       "4         1                0                1        0         0   \n",
       "\n",
       "   semi-furnished  unfurnished  \n",
       "0               0            0  \n",
       "1               0            0  \n",
       "2               1            0  \n",
       "3               0            0  \n",
       "4               0            0  "
      ]
     },
     "execution_count": 29,
     "metadata": {},
     "output_type": "execute_result"
    }
   ],
   "source": [
    "df.head()"
   ]
  },
  {
   "cell_type": "code",
   "execution_count": 30,
   "id": "4c67c425",
   "metadata": {
    "execution": {
     "iopub.execute_input": "2023-02-26T20:51:05.432332Z",
     "iopub.status.busy": "2023-02-26T20:51:05.431891Z",
     "iopub.status.idle": "2023-02-26T20:51:07.490334Z",
     "shell.execute_reply": "2023-02-26T20:51:07.489081Z"
    },
    "papermill": {
     "duration": 2.084404,
     "end_time": "2023-02-26T20:51:07.493612",
     "exception": false,
     "start_time": "2023-02-26T20:51:05.409208",
     "status": "completed"
    },
    "tags": []
   },
   "outputs": [
    {
     "data": {
      "text/plain": [
       "<AxesSubplot:>"
      ]
     },
     "execution_count": 30,
     "metadata": {},
     "output_type": "execute_result"
    },
    {
     "data": {
      "image/png": "[encoded data removed]",
      "text/plain": [
       "<Figure size 1440x720 with 2 Axes>"
      ]
     },
     "metadata": {
      "needs_background": "light"
     },
     "output_type": "display_data"
    }
   ],
   "source": [
    "#Use heatmap to detect correlation between features\n",
    "import seaborn as sns\n",
    "\n",
    "fig, ax = plt.subplots(figsize=(20,10))\n",
    "sns.heatmap(df.drop(['parking'], axis=1).corr(), cmap=\"crest\", annot=True)#check for correlation between variables\n"
   ]
  },
  {
   "cell_type": "code",
   "execution_count": 31,
   "id": "2afa8328",
   "metadata": {
    "execution": {
     "iopub.execute_input": "2023-02-26T20:51:07.542607Z",
     "iopub.status.busy": "2023-02-26T20:51:07.542185Z",
     "iopub.status.idle": "2023-02-26T20:51:07.547028Z",
     "shell.execute_reply": "2023-02-26T20:51:07.545902Z"
    },
    "papermill": {
     "duration": 0.032719,
     "end_time": "2023-02-26T20:51:07.549391",
     "exception": false,
     "start_time": "2023-02-26T20:51:07.516672",
     "status": "completed"
    },
    "tags": []
   },
   "outputs": [],
   "source": [
    "import numpy as np#import numpy for log"
   ]
  },
  {
   "cell_type": "code",
   "execution_count": 32,
   "id": "2c34dffb",
   "metadata": {
    "execution": {
     "iopub.execute_input": "2023-02-26T20:51:07.597723Z",
     "iopub.status.busy": "2023-02-26T20:51:07.597343Z",
     "iopub.status.idle": "2023-02-26T20:51:07.603074Z",
     "shell.execute_reply": "2023-02-26T20:51:07.601893Z"
    },
    "papermill": {
     "duration": 0.032636,
     "end_time": "2023-02-26T20:51:07.605428",
     "exception": false,
     "start_time": "2023-02-26T20:51:07.572792",
     "status": "completed"
    },
    "tags": []
   },
   "outputs": [],
   "source": [
    "df['price'] = np.log(df.price)#take the log of price to make uniform dist"
   ]
  },
  {
   "cell_type": "code",
   "execution_count": 33,
   "id": "d6da69cf",
   "metadata": {
    "execution": {
     "iopub.execute_input": "2023-02-26T20:51:07.655022Z",
     "iopub.status.busy": "2023-02-26T20:51:07.654582Z",
     "iopub.status.idle": "2023-02-26T20:51:07.876173Z",
     "shell.execute_reply": "2023-02-26T20:51:07.874892Z"
    },
    "papermill": {
     "duration": 0.248816,
     "end_time": "2023-02-26T20:51:07.878569",
     "exception": false,
     "start_time": "2023-02-26T20:51:07.629753",
     "status": "completed"
    },
    "tags": []
   },
   "outputs": [
    {
     "data": {
      "text/plain": [
       "<AxesSubplot:>"
      ]
     },
     "execution_count": 33,
     "metadata": {},
     "output_type": "execute_result"
    },
    {
     "data": {
      "image/png": "[encoded data removed]",
      "text/plain": [
       "<Figure size 432x288 with 1 Axes>"
      ]
     },
     "metadata": {
      "needs_background": "light"
     },
     "output_type": "display_data"
    }
   ],
   "source": [
    "df.price.hist()#check if more uniform"
   ]
  },
  {
   "cell_type": "code",
   "execution_count": 34,
   "id": "5e3db307",
   "metadata": {
    "execution": {
     "iopub.execute_input": "2023-02-26T20:51:07.927680Z",
     "iopub.status.busy": "2023-02-26T20:51:07.927269Z",
     "iopub.status.idle": "2023-02-26T20:51:07.932657Z",
     "shell.execute_reply": "2023-02-26T20:51:07.931854Z"
    },
    "papermill": {
     "duration": 0.032732,
     "end_time": "2023-02-26T20:51:07.934640",
     "exception": false,
     "start_time": "2023-02-26T20:51:07.901908",
     "status": "completed"
    },
    "tags": []
   },
   "outputs": [],
   "source": [
    "df['area'] = np.log(df.area)#take log of area for uniform dist"
   ]
  },
  {
   "cell_type": "code",
   "execution_count": 35,
   "id": "c1f8e887",
   "metadata": {
    "execution": {
     "iopub.execute_input": "2023-02-26T20:51:07.983258Z",
     "iopub.status.busy": "2023-02-26T20:51:07.982525Z",
     "iopub.status.idle": "2023-02-26T20:51:08.185068Z",
     "shell.execute_reply": "2023-02-26T20:51:08.183719Z"
    },
    "papermill": {
     "duration": 0.230169,
     "end_time": "2023-02-26T20:51:08.187905",
     "exception": false,
     "start_time": "2023-02-26T20:51:07.957736",
     "status": "completed"
    },
    "tags": []
   },
   "outputs": [
    {
     "data": {
      "text/plain": [
       "<AxesSubplot:>"
      ]
     },
     "execution_count": 35,
     "metadata": {},
     "output_type": "execute_result"
    },
    {
     "data": {
      "image/png": "[encoded data removed]",
      "text/plain": [
       "<Figure size 432x288 with 1 Axes>"
      ]
     },
     "metadata": {
      "needs_background": "light"
     },
     "output_type": "display_data"
    }
   ],
   "source": [
    "df.area.hist()#check if more uniform "
   ]
  },
  {
   "cell_type": "code",
   "execution_count": 36,
   "id": "96422b9f",
   "metadata": {
    "execution": {
     "iopub.execute_input": "2023-02-26T20:51:08.238896Z",
     "iopub.status.busy": "2023-02-26T20:51:08.238119Z",
     "iopub.status.idle": "2023-02-26T20:51:09.218318Z",
     "shell.execute_reply": "2023-02-26T20:51:09.217096Z"
    },
    "papermill": {
     "duration": 1.008784,
     "end_time": "2023-02-26T20:51:09.221130",
     "exception": false,
     "start_time": "2023-02-26T20:51:08.212346",
     "status": "completed"
    },
    "tags": []
   },
   "outputs": [],
   "source": [
    "#make necessary imports\n",
    "from sklearn.linear_model import LinearRegression\n",
    "from sklearn.metrics import mean_squared_error, r2_score\n",
    "from sklearn.model_selection import train_test_split\n",
    "import statsmodels.api as sm\n",
    "from sklearn.feature_selection import RFE\n",
    "from sklearn.model_selection import KFold"
   ]
  },
  {
   "cell_type": "code",
   "execution_count": 37,
   "id": "92e753cb",
   "metadata": {
    "execution": {
     "iopub.execute_input": "2023-02-26T20:51:09.272560Z",
     "iopub.status.busy": "2023-02-26T20:51:09.272139Z",
     "iopub.status.idle": "2023-02-26T20:51:09.282795Z",
     "shell.execute_reply": "2023-02-26T20:51:09.281992Z"
    },
    "papermill": {
     "duration": 0.039308,
     "end_time": "2023-02-26T20:51:09.285090",
     "exception": false,
     "start_time": "2023-02-26T20:51:09.245782",
     "status": "completed"
    },
    "tags": []
   },
   "outputs": [],
   "source": [
    "#split the data into training and testing set\n",
    "X_train, X_test, y_train, y_test = train_test_split(df.drop(['price', 'parking'],axis=1), df.price, random_state=42, test_size=0.2)"
   ]
  },
  {
   "cell_type": "code",
   "execution_count": 38,
   "id": "8c21f760",
   "metadata": {
    "execution": {
     "iopub.execute_input": "2023-02-26T20:51:09.335794Z",
     "iopub.status.busy": "2023-02-26T20:51:09.335148Z",
     "iopub.status.idle": "2023-02-26T20:51:09.354394Z",
     "shell.execute_reply": "2023-02-26T20:51:09.353389Z"
    },
    "papermill": {
     "duration": 0.04746,
     "end_time": "2023-02-26T20:51:09.357142",
     "exception": false,
     "start_time": "2023-02-26T20:51:09.309682",
     "status": "completed"
    },
    "tags": []
   },
   "outputs": [],
   "source": [
    "linr = sm.OLS(y_train,X_train).fit()#fit ordinary least squares model to data"
   ]
  },
  {
   "cell_type": "code",
   "execution_count": 39,
   "id": "7fae98f2",
   "metadata": {
    "execution": {
     "iopub.execute_input": "2023-02-26T20:51:09.406937Z",
     "iopub.status.busy": "2023-02-26T20:51:09.406230Z",
     "iopub.status.idle": "2023-02-26T20:51:09.423120Z",
     "shell.execute_reply": "2023-02-26T20:51:09.421958Z"
    },
    "papermill": {
     "duration": 0.044756,
     "end_time": "2023-02-26T20:51:09.425864",
     "exception": false,
     "start_time": "2023-02-26T20:51:09.381108",
     "status": "completed"
    },
    "tags": []
   },
   "outputs": [
    {
     "name": "stdout",
     "output_type": "stream",
     "text": [
      "                                 OLS Regression Results                                \n",
      "=======================================================================================\n",
      "Dep. Variable:                  price   R-squared (uncentered):                   0.999\n",
      "Model:                            OLS   Adj. R-squared (uncentered):              0.999\n",
      "Method:                 Least Squares   F-statistic:                          2.766e+04\n",
      "Date:                Sun, 26 Feb 2023   Prob (F-statistic):                        0.00\n",
      "Time:                        20:51:09   Log-Likelihood:                         -355.32\n",
      "No. Observations:                 436   AIC:                                      734.6\n",
      "Df Residuals:                     424   BIC:                                      783.6\n",
      "Df Model:                          12                                                  \n",
      "Covariance Type:            nonrobust                                                  \n",
      "===================================================================================\n",
      "                      coef    std err          t      P>|t|      [0.025      0.975]\n",
      "-----------------------------------------------------------------------------------\n",
      "area                1.7438      0.018     96.400      0.000       1.708       1.779\n",
      "bedrooms            0.0530      0.042      1.272      0.204      -0.029       0.135\n",
      "bathrooms           0.0804      0.063      1.280      0.201      -0.043       0.204\n",
      "stories             0.1746      0.038      4.634      0.000       0.101       0.249\n",
      "mainroad           -0.1899      0.082     -2.308      0.021      -0.352      -0.028\n",
      "guestroom          -0.2404      0.077     -3.119      0.002      -0.392      -0.089\n",
      "basement            0.2931      0.064      4.545      0.000       0.166       0.420\n",
      "hotwaterheating     0.1011      0.123      0.821      0.412      -0.141       0.343\n",
      "airconditioning    -0.0969      0.063     -1.527      0.128      -0.222       0.028\n",
      "prefarea            0.0002      0.066      0.003      0.997      -0.130       0.131\n",
      "semi-furnished      0.1114      0.067      1.659      0.098      -0.021       0.243\n",
      "unfurnished         0.0741      0.073      1.011      0.312      -0.070       0.218\n",
      "==============================================================================\n",
      "Omnibus:                       10.294   Durbin-Watson:                   1.771\n",
      "Prob(Omnibus):                  0.006   Jarque-Bera (JB):               10.336\n",
      "Skew:                          -0.355   Prob(JB):                      0.00570\n",
      "Kurtosis:                       3.253   Cond. No.                         43.5\n",
      "==============================================================================\n",
      "\n",
      "Notes:\n",
      "[1] R² is computed without centering (uncentered) since the model does not contain a constant.\n",
      "[2] Standard Errors assume that the covariance matrix of the errors is correctly specified.\n"
     ]
    }
   ],
   "source": [
    "print(linr.summary())#view summary stats"
   ]
  },
  {
   "cell_type": "code",
   "execution_count": 40,
   "id": "9da3d1cb",
   "metadata": {
    "execution": {
     "iopub.execute_input": "2023-02-26T20:51:09.478527Z",
     "iopub.status.busy": "2023-02-26T20:51:09.478114Z",
     "iopub.status.idle": "2023-02-26T20:51:09.507410Z",
     "shell.execute_reply": "2023-02-26T20:51:09.506183Z"
    },
    "papermill": {
     "duration": 0.058357,
     "end_time": "2023-02-26T20:51:09.509870",
     "exception": false,
     "start_time": "2023-02-26T20:51:09.451513",
     "status": "completed"
    },
    "tags": []
   },
   "outputs": [
    {
     "data": {
      "text/plain": [
       "RFE(estimator=LinearRegression(), n_features_to_select=9)"
      ]
     },
     "execution_count": 40,
     "metadata": {},
     "output_type": "execute_result"
    }
   ],
   "source": [
    "#create recursive feature elimination object\n",
    "rfe = RFE(LinearRegression(), n_features_to_select=9)\n",
    "\n",
    "#fit to data\n",
    "rfe.fit(X_train, y_train)"
   ]
  },
  {
   "cell_type": "code",
   "execution_count": 41,
   "id": "a358b045",
   "metadata": {
    "execution": {
     "iopub.execute_input": "2023-02-26T20:51:09.560460Z",
     "iopub.status.busy": "2023-02-26T20:51:09.559452Z",
     "iopub.status.idle": "2023-02-26T20:51:09.566208Z",
     "shell.execute_reply": "2023-02-26T20:51:09.565276Z"
    },
    "papermill": {
     "duration": 0.03449,
     "end_time": "2023-02-26T20:51:09.568432",
     "exception": false,
     "start_time": "2023-02-26T20:51:09.533942",
     "status": "completed"
    },
    "tags": []
   },
   "outputs": [],
   "source": [
    "#keep 9 most important features from rfe\n",
    "X_train = X_train.loc[:, rfe.support_]\n",
    "X_test = X_test.loc[:, rfe.support_]"
   ]
  },
  {
   "cell_type": "code",
   "execution_count": 42,
   "id": "f9b1a257",
   "metadata": {
    "execution": {
     "iopub.execute_input": "2023-02-26T20:51:09.619457Z",
     "iopub.status.busy": "2023-02-26T20:51:09.618784Z",
     "iopub.status.idle": "2023-02-26T20:51:09.626195Z",
     "shell.execute_reply": "2023-02-26T20:51:09.625009Z"
    },
    "papermill": {
     "duration": 0.035369,
     "end_time": "2023-02-26T20:51:09.628317",
     "exception": false,
     "start_time": "2023-02-26T20:51:09.592948",
     "status": "completed"
    },
    "tags": []
   },
   "outputs": [
    {
     "data": {
      "text/plain": [
       "Index(['area', 'bathrooms', 'stories', 'mainroad', 'basement',\n",
       "       'hotwaterheating', 'airconditioning', 'prefarea', 'unfurnished'],\n",
       "      dtype='object')"
      ]
     },
     "execution_count": 42,
     "metadata": {},
     "output_type": "execute_result"
    }
   ],
   "source": [
    "#Show 9 most important columns\n",
    "X_train.columns"
   ]
  },
  {
   "cell_type": "code",
   "execution_count": 43,
   "id": "d0ba553b",
   "metadata": {
    "execution": {
     "iopub.execute_input": "2023-02-26T20:51:09.679290Z",
     "iopub.status.busy": "2023-02-26T20:51:09.678859Z",
     "iopub.status.idle": "2023-02-26T20:51:09.683859Z",
     "shell.execute_reply": "2023-02-26T20:51:09.682731Z"
    },
    "papermill": {
     "duration": 0.033705,
     "end_time": "2023-02-26T20:51:09.686346",
     "exception": false,
     "start_time": "2023-02-26T20:51:09.652641",
     "status": "completed"
    },
    "tags": []
   },
   "outputs": [],
   "source": [
    "#create LR model\n",
    "lm = LinearRegression()"
   ]
  },
  {
   "cell_type": "code",
   "execution_count": 44,
   "id": "340decae",
   "metadata": {
    "execution": {
     "iopub.execute_input": "2023-02-26T20:51:09.737577Z",
     "iopub.status.busy": "2023-02-26T20:51:09.737174Z",
     "iopub.status.idle": "2023-02-26T20:51:09.747524Z",
     "shell.execute_reply": "2023-02-26T20:51:09.746310Z"
    },
    "papermill": {
     "duration": 0.038684,
     "end_time": "2023-02-26T20:51:09.749846",
     "exception": false,
     "start_time": "2023-02-26T20:51:09.711162",
     "status": "completed"
    },
    "tags": []
   },
   "outputs": [
    {
     "data": {
      "text/plain": [
       "LinearRegression()"
      ]
     },
     "execution_count": 44,
     "metadata": {},
     "output_type": "execute_result"
    }
   ],
   "source": [
    "#fit LR model to training set\n",
    "lm.fit(X_train, y_train)"
   ]
  },
  {
   "cell_type": "code",
   "execution_count": 45,
   "id": "4153b632",
   "metadata": {
    "execution": {
     "iopub.execute_input": "2023-02-26T20:51:09.800979Z",
     "iopub.status.busy": "2023-02-26T20:51:09.800291Z",
     "iopub.status.idle": "2023-02-26T20:51:09.808396Z",
     "shell.execute_reply": "2023-02-26T20:51:09.807516Z"
    },
    "papermill": {
     "duration": 0.036679,
     "end_time": "2023-02-26T20:51:09.810806",
     "exception": false,
     "start_time": "2023-02-26T20:51:09.774127",
     "status": "completed"
    },
    "tags": []
   },
   "outputs": [],
   "source": [
    "#make prediction on training set\n",
    "predictions = lm.predict(X_train)"
   ]
  },
  {
   "cell_type": "code",
   "execution_count": 46,
   "id": "643b2dc8",
   "metadata": {
    "execution": {
     "iopub.execute_input": "2023-02-26T20:51:09.862974Z",
     "iopub.status.busy": "2023-02-26T20:51:09.862304Z",
     "iopub.status.idle": "2023-02-26T20:51:09.869209Z",
     "shell.execute_reply": "2023-02-26T20:51:09.867814Z"
    },
    "papermill": {
     "duration": 0.03536,
     "end_time": "2023-02-26T20:51:09.871577",
     "exception": false,
     "start_time": "2023-02-26T20:51:09.836217",
     "status": "completed"
    },
    "tags": []
   },
   "outputs": [
    {
     "name": "stdout",
     "output_type": "stream",
     "text": [
      "0.19071246779163842\n"
     ]
    }
   ],
   "source": [
    "#calculate RMSE of training set\n",
    "print(mean_squared_error(y_train,predictions, squared=False))"
   ]
  },
  {
   "cell_type": "code",
   "execution_count": 47,
   "id": "f9598047",
   "metadata": {
    "execution": {
     "iopub.execute_input": "2023-02-26T20:51:09.924067Z",
     "iopub.status.busy": "2023-02-26T20:51:09.923652Z",
     "iopub.status.idle": "2023-02-26T20:51:09.931295Z",
     "shell.execute_reply": "2023-02-26T20:51:09.929902Z"
    },
    "papermill": {
     "duration": 0.036834,
     "end_time": "2023-02-26T20:51:09.933678",
     "exception": false,
     "start_time": "2023-02-26T20:51:09.896844",
     "status": "completed"
    },
    "tags": []
   },
   "outputs": [
    {
     "data": {
      "text/plain": [
       "0.7075532785049747"
      ]
     },
     "execution_count": 47,
     "metadata": {},
     "output_type": "execute_result"
    }
   ],
   "source": [
    "#calculate r2 value of training set\n",
    "r2_score(y_train, predictions)"
   ]
  },
  {
   "cell_type": "code",
   "execution_count": 48,
   "id": "c4595f85",
   "metadata": {
    "execution": {
     "iopub.execute_input": "2023-02-26T20:51:09.986134Z",
     "iopub.status.busy": "2023-02-26T20:51:09.985692Z",
     "iopub.status.idle": "2023-02-26T20:51:09.990750Z",
     "shell.execute_reply": "2023-02-26T20:51:09.989509Z"
    },
    "papermill": {
     "duration": 0.034491,
     "end_time": "2023-02-26T20:51:09.993107",
     "exception": false,
     "start_time": "2023-02-26T20:51:09.958616",
     "status": "completed"
    },
    "tags": []
   },
   "outputs": [],
   "source": [
    "from sklearn.model_selection import cross_val_score"
   ]
  },
  {
   "cell_type": "code",
   "execution_count": 49,
   "id": "e3ede1fe",
   "metadata": {
    "execution": {
     "iopub.execute_input": "2023-02-26T20:51:10.045960Z",
     "iopub.status.busy": "2023-02-26T20:51:10.044884Z",
     "iopub.status.idle": "2023-02-26T20:51:10.050828Z",
     "shell.execute_reply": "2023-02-26T20:51:10.049813Z"
    },
    "papermill": {
     "duration": 0.034682,
     "end_time": "2023-02-26T20:51:10.053237",
     "exception": false,
     "start_time": "2023-02-26T20:51:10.018555",
     "status": "completed"
    },
    "tags": []
   },
   "outputs": [],
   "source": [
    "kf = KFold(n_splits=5, shuffle=True, random_state=42)#kfolds cross validator object"
   ]
  },
  {
   "cell_type": "code",
   "execution_count": 50,
   "id": "a6b66e22",
   "metadata": {
    "execution": {
     "iopub.execute_input": "2023-02-26T20:51:10.104263Z",
     "iopub.status.busy": "2023-02-26T20:51:10.103846Z",
     "iopub.status.idle": "2023-02-26T20:51:10.139497Z",
     "shell.execute_reply": "2023-02-26T20:51:10.138350Z"
    },
    "papermill": {
     "duration": 0.064066,
     "end_time": "2023-02-26T20:51:10.141882",
     "exception": false,
     "start_time": "2023-02-26T20:51:10.077816",
     "status": "completed"
    },
    "tags": []
   },
   "outputs": [
    {
     "data": {
      "text/plain": [
       "array([0.66956608, 0.65601609, 0.70781747, 0.72513671, 0.64788416])"
      ]
     },
     "execution_count": 50,
     "metadata": {},
     "output_type": "execute_result"
    }
   ],
   "source": [
    "cross_val_score(lm, X_train, y_train, cv=kf)#validate model"
   ]
  },
  {
   "cell_type": "code",
   "execution_count": 51,
   "id": "e20e52c3",
   "metadata": {
    "execution": {
     "iopub.execute_input": "2023-02-26T20:51:10.192991Z",
     "iopub.status.busy": "2023-02-26T20:51:10.192575Z",
     "iopub.status.idle": "2023-02-26T20:51:10.199814Z",
     "shell.execute_reply": "2023-02-26T20:51:10.198769Z"
    },
    "papermill": {
     "duration": 0.035644,
     "end_time": "2023-02-26T20:51:10.202029",
     "exception": false,
     "start_time": "2023-02-26T20:51:10.166385",
     "status": "completed"
    },
    "tags": []
   },
   "outputs": [],
   "source": [
    "predtest = lm.predict(X_test)#make prediction on test set"
   ]
  },
  {
   "cell_type": "code",
   "execution_count": 52,
   "id": "f104e712",
   "metadata": {
    "execution": {
     "iopub.execute_input": "2023-02-26T20:51:10.252848Z",
     "iopub.status.busy": "2023-02-26T20:51:10.252232Z",
     "iopub.status.idle": "2023-02-26T20:51:10.256740Z",
     "shell.execute_reply": "2023-02-26T20:51:10.255995Z"
    },
    "papermill": {
     "duration": 0.032194,
     "end_time": "2023-02-26T20:51:10.258765",
     "exception": false,
     "start_time": "2023-02-26T20:51:10.226571",
     "status": "completed"
    },
    "tags": []
   },
   "outputs": [],
   "source": [
    "testr2score = r2_score(y_test, predtest)#calc r2 score for test"
   ]
  },
  {
   "cell_type": "code",
   "execution_count": 53,
   "id": "6645bff1",
   "metadata": {
    "execution": {
     "iopub.execute_input": "2023-02-26T20:51:10.309628Z",
     "iopub.status.busy": "2023-02-26T20:51:10.308995Z",
     "iopub.status.idle": "2023-02-26T20:51:10.314428Z",
     "shell.execute_reply": "2023-02-26T20:51:10.313180Z"
    },
    "papermill": {
     "duration": 0.034702,
     "end_time": "2023-02-26T20:51:10.317660",
     "exception": false,
     "start_time": "2023-02-26T20:51:10.282958",
     "status": "completed"
    },
    "tags": []
   },
   "outputs": [
    {
     "name": "stdout",
     "output_type": "stream",
     "text": [
      "0.6563598804080699\n"
     ]
    }
   ],
   "source": [
    "print(testr2score)#test set r2 score"
   ]
  },
  {
   "cell_type": "code",
   "execution_count": 54,
   "id": "9aac3e34",
   "metadata": {
    "execution": {
     "iopub.execute_input": "2023-02-26T20:51:10.370861Z",
     "iopub.status.busy": "2023-02-26T20:51:10.370223Z",
     "iopub.status.idle": "2023-02-26T20:51:10.375945Z",
     "shell.execute_reply": "2023-02-26T20:51:10.374912Z"
    },
    "papermill": {
     "duration": 0.034235,
     "end_time": "2023-02-26T20:51:10.378220",
     "exception": false,
     "start_time": "2023-02-26T20:51:10.343985",
     "status": "completed"
    },
    "tags": []
   },
   "outputs": [
    {
     "name": "stdout",
     "output_type": "stream",
     "text": [
      "0.25759082909936837\n"
     ]
    }
   ],
   "source": [
    "print(np.sqrt(mean_squared_error(y_test,predtest)))#rmse for test set"
   ]
  },
  {
   "cell_type": "code",
   "execution_count": 55,
   "id": "91c818c6",
   "metadata": {
    "execution": {
     "iopub.execute_input": "2023-02-26T20:51:10.430615Z",
     "iopub.status.busy": "2023-02-26T20:51:10.429973Z",
     "iopub.status.idle": "2023-02-26T20:51:10.434806Z",
     "shell.execute_reply": "2023-02-26T20:51:10.433896Z"
    },
    "papermill": {
     "duration": 0.033788,
     "end_time": "2023-02-26T20:51:10.437230",
     "exception": false,
     "start_time": "2023-02-26T20:51:10.403442",
     "status": "completed"
    },
    "tags": []
   },
   "outputs": [],
   "source": [
    "#calculate the residuals\n",
    "residuals = abs(y_test) - abs(predtest)"
   ]
  },
  {
   "cell_type": "code",
   "execution_count": 56,
   "id": "a4f0f14c",
   "metadata": {
    "execution": {
     "iopub.execute_input": "2023-02-26T20:51:10.490152Z",
     "iopub.status.busy": "2023-02-26T20:51:10.489742Z",
     "iopub.status.idle": "2023-02-26T20:51:10.750360Z",
     "shell.execute_reply": "2023-02-26T20:51:10.749487Z"
    },
    "papermill": {
     "duration": 0.290009,
     "end_time": "2023-02-26T20:51:10.752607",
     "exception": false,
     "start_time": "2023-02-26T20:51:10.462598",
     "status": "completed"
    },
    "tags": []
   },
   "outputs": [
    {
     "name": "stderr",
     "output_type": "stream",
     "text": [
      "/opt/conda/lib/python3.7/site-packages/seaborn/distributions.py:2619: FutureWarning: `distplot` is a deprecated function and will be removed in a future version. Please adapt your code to use either `displot` (a figure-level function with similar flexibility) or `histplot` (an axes-level function for histograms).\n",
      "  warnings.warn(msg, FutureWarning)\n"
     ]
    },
    {
     "data": {
      "text/plain": [
       "<AxesSubplot:xlabel='price', ylabel='Density'>"
      ]
     },
     "execution_count": 56,
     "metadata": {},
     "output_type": "execute_result"
    },
    {
     "data": {
      "image/png": "[encoded data removed]",
      "text/plain": [
       "<Figure size 432x288 with 1 Axes>"
      ]
     },
     "metadata": {
      "needs_background": "light"
     },
     "output_type": "display_data"
    }
   ],
   "source": [
    "#check that residuals resemble a normal distribution\n",
    "sns.distplot(residuals, bins=15)"
   ]
  },
  {
   "cell_type": "code",
   "execution_count": 57,
   "id": "312a0c4e",
   "metadata": {
    "execution": {
     "iopub.execute_input": "2023-02-26T20:51:10.806127Z",
     "iopub.status.busy": "2023-02-26T20:51:10.804974Z",
     "iopub.status.idle": "2023-02-26T20:51:10.809883Z",
     "shell.execute_reply": "2023-02-26T20:51:10.809016Z"
    },
    "papermill": {
     "duration": 0.033876,
     "end_time": "2023-02-26T20:51:10.812181",
     "exception": false,
     "start_time": "2023-02-26T20:51:10.778305",
     "status": "completed"
    },
    "tags": []
   },
   "outputs": [],
   "source": [
    "#create an array that's the length of the residuals\n",
    "x_axis = np.arange(0, len(residuals))"
   ]
  },
  {
   "cell_type": "code",
   "execution_count": 58,
   "id": "fdeb6276",
   "metadata": {
    "execution": {
     "iopub.execute_input": "2023-02-26T20:51:10.867834Z",
     "iopub.status.busy": "2023-02-26T20:51:10.866524Z",
     "iopub.status.idle": "2023-02-26T20:51:11.077318Z",
     "shell.execute_reply": "2023-02-26T20:51:11.076025Z"
    },
    "papermill": {
     "duration": 0.241024,
     "end_time": "2023-02-26T20:51:11.079810",
     "exception": false,
     "start_time": "2023-02-26T20:51:10.838786",
     "status": "completed"
    },
    "tags": []
   },
   "outputs": [
    {
     "data": {
      "image/png": "[encoded data removed]",
      "text/plain": [
       "<Figure size 432x288 with 1 Axes>"
      ]
     },
     "metadata": {
      "needs_background": "light"
     },
     "output_type": "display_data"
    }
   ],
   "source": [
    "#plot residuals to test assumption of homoscedasticity\n",
    "plt.scatter(x_axis, residuals, alpha=0.5)\n",
    "plt.title(\"Residuals\")\n",
    "plt.grid()"
   ]
  },
  {
   "cell_type": "code",
   "execution_count": 59,
   "id": "9d3d166b",
   "metadata": {
    "execution": {
     "iopub.execute_input": "2023-02-26T20:51:11.132656Z",
     "iopub.status.busy": "2023-02-26T20:51:11.132173Z",
     "iopub.status.idle": "2023-02-26T20:51:11.139530Z",
     "shell.execute_reply": "2023-02-26T20:51:11.138456Z"
    },
    "papermill": {
     "duration": 0.036301,
     "end_time": "2023-02-26T20:51:11.141665",
     "exception": false,
     "start_time": "2023-02-26T20:51:11.105364",
     "status": "completed"
    },
    "tags": []
   },
   "outputs": [
    {
     "data": {
      "text/plain": [
       "2.3019509005818946"
      ]
     },
     "execution_count": 59,
     "metadata": {},
     "output_type": "execute_result"
    }
   ],
   "source": [
    "#use Durbin Watson to check autocorrelation\n",
    "from statsmodels.stats.stattools import durbin_watson\n",
    "durbin_watson(residuals)"
   ]
  },
  {
   "cell_type": "code",
   "execution_count": 60,
   "id": "06c75a22",
   "metadata": {
    "execution": {
     "iopub.execute_input": "2023-02-26T20:51:11.196366Z",
     "iopub.status.busy": "2023-02-26T20:51:11.195900Z",
     "iopub.status.idle": "2023-02-26T20:51:11.222466Z",
     "shell.execute_reply": "2023-02-26T20:51:11.221625Z"
    },
    "papermill": {
     "duration": 0.056714,
     "end_time": "2023-02-26T20:51:11.224895",
     "exception": false,
     "start_time": "2023-02-26T20:51:11.168181",
     "status": "completed"
    },
    "tags": []
   },
   "outputs": [],
   "source": [
    "#import decision tree regressor\n",
    "from sklearn.tree import DecisionTreeRegressor"
   ]
  },
  {
   "cell_type": "code",
   "execution_count": 61,
   "id": "5da87d18",
   "metadata": {
    "execution": {
     "iopub.execute_input": "2023-02-26T20:51:11.278618Z",
     "iopub.status.busy": "2023-02-26T20:51:11.277895Z",
     "iopub.status.idle": "2023-02-26T20:51:11.285322Z",
     "shell.execute_reply": "2023-02-26T20:51:11.284492Z"
    },
    "papermill": {
     "duration": 0.036827,
     "end_time": "2023-02-26T20:51:11.287643",
     "exception": false,
     "start_time": "2023-02-26T20:51:11.250816",
     "status": "completed"
    },
    "tags": []
   },
   "outputs": [],
   "source": [
    "#split the data into training and testing set again\n",
    "X_train, X_test, y_train, y_test = train_test_split(df.drop(['price'],axis=1), df.price, random_state=42, test_size=0.2)"
   ]
  },
  {
   "cell_type": "code",
   "execution_count": 62,
   "id": "64d4ede0",
   "metadata": {
    "execution": {
     "iopub.execute_input": "2023-02-26T20:51:11.341174Z",
     "iopub.status.busy": "2023-02-26T20:51:11.340517Z",
     "iopub.status.idle": "2023-02-26T20:51:11.345069Z",
     "shell.execute_reply": "2023-02-26T20:51:11.344230Z"
    },
    "papermill": {
     "duration": 0.033974,
     "end_time": "2023-02-26T20:51:11.347449",
     "exception": false,
     "start_time": "2023-02-26T20:51:11.313475",
     "status": "completed"
    },
    "tags": []
   },
   "outputs": [],
   "source": [
    "#Use recursive feature elimination to select 6 most important features\n",
    "rfe = RFE(DecisionTreeRegressor(), n_features_to_select= 6)#rfe feature elimination"
   ]
  },
  {
   "cell_type": "code",
   "execution_count": 63,
   "id": "26897993",
   "metadata": {
    "execution": {
     "iopub.execute_input": "2023-02-26T20:51:11.400658Z",
     "iopub.status.busy": "2023-02-26T20:51:11.400200Z",
     "iopub.status.idle": "2023-02-26T20:51:11.423503Z",
     "shell.execute_reply": "2023-02-26T20:51:11.422624Z"
    },
    "papermill": {
     "duration": 0.052501,
     "end_time": "2023-02-26T20:51:11.425583",
     "exception": false,
     "start_time": "2023-02-26T20:51:11.373082",
     "status": "completed"
    },
    "tags": []
   },
   "outputs": [
    {
     "data": {
      "text/plain": [
       "RFE(estimator=DecisionTreeRegressor(), n_features_to_select=6)"
      ]
     },
     "execution_count": 63,
     "metadata": {},
     "output_type": "execute_result"
    }
   ],
   "source": [
    "#fit rfe model\n",
    "rfe.fit(X_train,y_train)"
   ]
  },
  {
   "cell_type": "code",
   "execution_count": 64,
   "id": "db873ccb",
   "metadata": {
    "execution": {
     "iopub.execute_input": "2023-02-26T20:51:11.478644Z",
     "iopub.status.busy": "2023-02-26T20:51:11.477960Z",
     "iopub.status.idle": "2023-02-26T20:51:11.483517Z",
     "shell.execute_reply": "2023-02-26T20:51:11.482759Z"
    },
    "papermill": {
     "duration": 0.034445,
     "end_time": "2023-02-26T20:51:11.485711",
     "exception": false,
     "start_time": "2023-02-26T20:51:11.451266",
     "status": "completed"
    },
    "tags": []
   },
   "outputs": [],
   "source": [
    "#filter train and test set for selected features\n",
    "X_train = X_train.loc[:,rfe.support_]\n",
    "X_test = X_test.loc[:,rfe.support_]"
   ]
  },
  {
   "cell_type": "code",
   "execution_count": 65,
   "id": "c56f1630",
   "metadata": {
    "execution": {
     "iopub.execute_input": "2023-02-26T20:51:11.539272Z",
     "iopub.status.busy": "2023-02-26T20:51:11.538579Z",
     "iopub.status.idle": "2023-02-26T20:51:11.544724Z",
     "shell.execute_reply": "2023-02-26T20:51:11.543990Z"
    },
    "papermill": {
     "duration": 0.035125,
     "end_time": "2023-02-26T20:51:11.546844",
     "exception": false,
     "start_time": "2023-02-26T20:51:11.511719",
     "status": "completed"
    },
    "tags": []
   },
   "outputs": [],
   "source": [
    "#DT hyperparameters to test\n",
    "max_depth=[1,2,3,4,5,6,7,8,9,10]\n",
    "min_samples_split=[2,3,4,5,6,7,8,9]\n",
    "min_samples_leaf=[1,2,3,4,5,6,7,8,9,10]\n",
    "min_weight_fraction_leaf=[0,0.1,0.2,0.3,0.4,0.5,0.6]\n",
    "max_leaf_nodes=list(range(0,11))\n",
    "min_impurity_decrease=list(range(0,11))\n",
    "ccp_alpha=[0,0.1,0.2,0.3,0.4,0.5]"
   ]
  },
  {
   "cell_type": "code",
   "execution_count": 66,
   "id": "e2ea9e42",
   "metadata": {
    "execution": {
     "iopub.execute_input": "2023-02-26T20:51:11.599807Z",
     "iopub.status.busy": "2023-02-26T20:51:11.599132Z",
     "iopub.status.idle": "2023-02-26T20:51:11.755259Z",
     "shell.execute_reply": "2023-02-26T20:51:11.753959Z"
    },
    "papermill": {
     "duration": 0.18544,
     "end_time": "2023-02-26T20:51:11.757724",
     "exception": false,
     "start_time": "2023-02-26T20:51:11.572284",
     "status": "completed"
    },
    "tags": []
   },
   "outputs": [
    {
     "name": "stdout",
     "output_type": "stream",
     "text": [
      "0\n",
      "0.24121727541581514\n",
      "0.1\n",
      "0.353698657560675\n",
      "0.2\n",
      "0.353698657560675\n",
      "0.3\n",
      "0.353698657560675\n",
      "0.4\n",
      "0.353698657560675\n",
      "0.5\n",
      "0.353698657560675\n"
     ]
    }
   ],
   "source": [
    "#Use loop to tune hyperparameters\n",
    "for item in ccp_alpha:\n",
    "        score = cross_val_score(DecisionTreeRegressor(random_state=42, max_depth=5, min_samples_split=4, ccp_alpha=item), X_train, y_train, cv=kf, scoring='neg_root_mean_squared_error')\n",
    "        print(item)\n",
    "        print(-np.mean(score))"
   ]
  },
  {
   "cell_type": "code",
   "execution_count": 67,
   "id": "a979f96d",
   "metadata": {
    "execution": {
     "iopub.execute_input": "2023-02-26T20:51:11.811356Z",
     "iopub.status.busy": "2023-02-26T20:51:11.810878Z",
     "iopub.status.idle": "2023-02-26T20:51:11.815731Z",
     "shell.execute_reply": "2023-02-26T20:51:11.814727Z"
    },
    "papermill": {
     "duration": 0.03427,
     "end_time": "2023-02-26T20:51:11.817874",
     "exception": false,
     "start_time": "2023-02-26T20:51:11.783604",
     "status": "completed"
    },
    "tags": []
   },
   "outputs": [],
   "source": [
    "#create a decision tree regressor to predict housing price\n",
    "dt = DecisionTreeRegressor(random_state=42, max_depth = 5, min_samples_split = 4)"
   ]
  },
  {
   "cell_type": "code",
   "execution_count": 68,
   "id": "79cb47e7",
   "metadata": {
    "execution": {
     "iopub.execute_input": "2023-02-26T20:51:11.871161Z",
     "iopub.status.busy": "2023-02-26T20:51:11.870731Z",
     "iopub.status.idle": "2023-02-26T20:51:11.880696Z",
     "shell.execute_reply": "2023-02-26T20:51:11.879476Z"
    },
    "papermill": {
     "duration": 0.039398,
     "end_time": "2023-02-26T20:51:11.883109",
     "exception": false,
     "start_time": "2023-02-26T20:51:11.843711",
     "status": "completed"
    },
    "tags": []
   },
   "outputs": [
    {
     "data": {
      "text/plain": [
       "DecisionTreeRegressor(max_depth=5, min_samples_split=4, random_state=42)"
      ]
     },
     "execution_count": 68,
     "metadata": {},
     "output_type": "execute_result"
    }
   ],
   "source": [
    "#fit decision tree model\n",
    "dt.fit(X_train, y_train)"
   ]
  },
  {
   "cell_type": "code",
   "execution_count": 69,
   "id": "c2059dbf",
   "metadata": {
    "execution": {
     "iopub.execute_input": "2023-02-26T20:51:11.936564Z",
     "iopub.status.busy": "2023-02-26T20:51:11.935436Z",
     "iopub.status.idle": "2023-02-26T20:51:11.942746Z",
     "shell.execute_reply": "2023-02-26T20:51:11.941941Z"
    },
    "papermill": {
     "duration": 0.036712,
     "end_time": "2023-02-26T20:51:11.945138",
     "exception": false,
     "start_time": "2023-02-26T20:51:11.908426",
     "status": "completed"
    },
    "tags": []
   },
   "outputs": [],
   "source": [
    "#get training set predicitions\n",
    "ypred = dt.predict(X_train)"
   ]
  },
  {
   "cell_type": "code",
   "execution_count": 70,
   "id": "bdd610bf",
   "metadata": {
    "execution": {
     "iopub.execute_input": "2023-02-26T20:51:11.998902Z",
     "iopub.status.busy": "2023-02-26T20:51:11.998268Z",
     "iopub.status.idle": "2023-02-26T20:51:12.005771Z",
     "shell.execute_reply": "2023-02-26T20:51:12.004725Z"
    },
    "papermill": {
     "duration": 0.0369,
     "end_time": "2023-02-26T20:51:12.008086",
     "exception": false,
     "start_time": "2023-02-26T20:51:11.971186",
     "status": "completed"
    },
    "tags": []
   },
   "outputs": [
    {
     "data": {
      "text/plain": [
       "0.1909320479580257"
      ]
     },
     "execution_count": 70,
     "metadata": {},
     "output_type": "execute_result"
    }
   ],
   "source": [
    "#RMSE of training set\n",
    "mean_squared_error(ypred, y_train, squared=False)"
   ]
  },
  {
   "cell_type": "code",
   "execution_count": 71,
   "id": "0641a480",
   "metadata": {
    "execution": {
     "iopub.execute_input": "2023-02-26T20:51:12.061239Z",
     "iopub.status.busy": "2023-02-26T20:51:12.060781Z",
     "iopub.status.idle": "2023-02-26T20:51:12.093310Z",
     "shell.execute_reply": "2023-02-26T20:51:12.092229Z"
    },
    "papermill": {
     "duration": 0.061881,
     "end_time": "2023-02-26T20:51:12.095597",
     "exception": false,
     "start_time": "2023-02-26T20:51:12.033716",
     "status": "completed"
    },
    "tags": []
   },
   "outputs": [
    {
     "data": {
      "text/plain": [
       "0.24121727541581514"
      ]
     },
     "execution_count": 71,
     "metadata": {},
     "output_type": "execute_result"
    }
   ],
   "source": [
    "#cross validation of DT model\n",
    "np.mean(cross_val_score(dt, X_train, y_train, cv=kf, scoring='neg_root_mean_squared_error')*-1)"
   ]
  },
  {
   "cell_type": "code",
   "execution_count": 72,
   "id": "bd23cc7e",
   "metadata": {
    "execution": {
     "iopub.execute_input": "2023-02-26T20:51:12.149828Z",
     "iopub.status.busy": "2023-02-26T20:51:12.149118Z",
     "iopub.status.idle": "2023-02-26T20:51:12.183336Z",
     "shell.execute_reply": "2023-02-26T20:51:12.182413Z"
    },
    "papermill": {
     "duration": 0.064019,
     "end_time": "2023-02-26T20:51:12.185531",
     "exception": false,
     "start_time": "2023-02-26T20:51:12.121512",
     "status": "completed"
    },
    "tags": []
   },
   "outputs": [
    {
     "data": {
      "text/plain": [
       "0.015301743745806663"
      ]
     },
     "execution_count": 72,
     "metadata": {},
     "output_type": "execute_result"
    }
   ],
   "source": [
    "#STD DEVIATION of cross validation scores\n",
    "np.std(cross_val_score(dt, X_train, y_train, cv=kf, scoring='neg_root_mean_squared_error')*-1)"
   ]
  },
  {
   "cell_type": "code",
   "execution_count": 73,
   "id": "e595d1ff",
   "metadata": {
    "execution": {
     "iopub.execute_input": "2023-02-26T20:51:12.239810Z",
     "iopub.status.busy": "2023-02-26T20:51:12.238819Z",
     "iopub.status.idle": "2023-02-26T20:51:12.249413Z",
     "shell.execute_reply": "2023-02-26T20:51:12.248145Z"
    },
    "papermill": {
     "duration": 0.040338,
     "end_time": "2023-02-26T20:51:12.251626",
     "exception": false,
     "start_time": "2023-02-26T20:51:12.211288",
     "status": "completed"
    },
    "tags": []
   },
   "outputs": [
    {
     "data": {
      "text/plain": [
       "0.30245339466070303"
      ]
     },
     "execution_count": 73,
     "metadata": {},
     "output_type": "execute_result"
    }
   ],
   "source": [
    "#predict labels for testing set\n",
    "pred_y = dt.predict(X_test)\n",
    "\n",
    "#RMSE of test set\n",
    "mean_squared_error(y_test, pred_y, squared=False)"
   ]
  }
 ],
 "metadata": {
  "kernelspec": {
   "display_name": "Python 3",
   "language": "python",
   "name": "python3"
  },
  "language_info": {
   "codemirror_mode": {
    "name": "ipython",
    "version": 3
   },
   "file_extension": ".py",
   "mimetype": "text/x-python",
   "name": "python",
   "nbconvert_exporter": "python",
   "pygments_lexer": "ipython3",
   "version": "3.7.12"
  },
  "papermill": {
   "default_parameters": {},
   "duration": 20.840662,
   "end_time": "2023-02-26T20:51:13.199176",
   "environment_variables": {},
   "exception": null,
   "input_path": "__notebook__.ipynb",
   "output_path": "__notebook__.ipynb",
   "parameters": {},
   "start_time": "2023-02-26T20:50:52.358514",
   "version": "2.3.4"
  }
 },
 "nbformat": 4,
 "nbformat_minor": 5
}
